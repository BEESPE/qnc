{
 "cells": [
  {
   "cell_type": "markdown",
   "metadata": {
    "application/vnd.databricks.v1+cell": {
     "cellMetadata": {},
     "inputWidgets": {},
     "nuid": "ad5563ba-b8d9-46fd-a485-ceb4735e2c21",
     "showTitle": false,
     "title": ""
    }
   },
   "source": [
    "Dans ce TP, nous considérons des trajets en vélo partagé (similaire au vélib) en Californie. Deux jeux de données sont fournis : l'un qui contient les stations de vélo, l'autre, les trajets à vélo. Les déplacements à vélo se font d'une station à l'autre."
   ]
  },
  {
   "cell_type": "markdown",
   "metadata": {
    "application/vnd.databricks.v1+cell": {
     "cellMetadata": {},
     "inputWidgets": {},
     "nuid": "bf7dc796-dd34-42c2-8c22-93f6b85ad47c",
     "showTitle": false,
     "title": ""
    }
   },
   "source": [
    "Charger le fichier stationData.csv dans un DataFrame station_df et le fichier tripData.csv dans un DataFrame trip_df. Pour chaque Dataframe, il vous faudra demander une inférence des schémas et indiquer que la première ligne est un en-tête."
   ]
  },
  {
   "cell_type": "code",
   "execution_count": 0,
   "metadata": {
    "application/vnd.databricks.v1+cell": {
     "cellMetadata": {
      "byteLimit": 2048000,
      "rowLimit": 10000
     },
     "inputWidgets": {},
     "nuid": "728ca652-deb7-4841-ab7e-3b8e16877ae1",
     "showTitle": false,
     "title": ""
    }
   },
   "outputs": [
    {
     "output_type": "display_data",
     "data": {
      "text/html": [
       "\n",
       "            <div>\n",
       "                <p><b>SparkSession - hive</b></p>\n",
       "                \n",
       "        <div>\n",
       "            <p><b>SparkContext</b></p>\n",
       "\n",
       "            <p><a href=\"/?o=8519688365559781#setting/sparkui/0704-075548-vdvawfsf/driver-1371547085433430999\">Spark UI</a></p>\n",
       "\n",
       "            <dl>\n",
       "              <dt>Version</dt>\n",
       "                <dd><code>v3.3.2</code></dd>\n",
       "              <dt>Master</dt>\n",
       "                <dd><code>local[8]</code></dd>\n",
       "              <dt>AppName</dt>\n",
       "                <dd><code>Databricks Shell</code></dd>\n",
       "            </dl>\n",
       "        </div>\n",
       "        \n",
       "            </div>\n",
       "        "
      ]
     },
     "metadata": {
      "application/vnd.databricks.v1+output": {
       "addedWidgets": {},
       "arguments": {},
       "data": "\n            <div>\n                <p><b>SparkSession - hive</b></p>\n                \n        <div>\n            <p><b>SparkContext</b></p>\n\n            <p><a href=\"/?o=8519688365559781#setting/sparkui/0704-075548-vdvawfsf/driver-1371547085433430999\">Spark UI</a></p>\n\n            <dl>\n              <dt>Version</dt>\n                <dd><code>v3.3.2</code></dd>\n              <dt>Master</dt>\n                <dd><code>local[8]</code></dd>\n              <dt>AppName</dt>\n                <dd><code>Databricks Shell</code></dd>\n            </dl>\n        </div>\n        \n            </div>\n        ",
       "datasetInfos": [],
       "metadata": {},
       "removedWidgets": [],
       "textData": null,
       "type": "htmlSandbox"
      }
     },
     "output_type": "display_data"
    }
   ],
   "source": [
    "spark"
   ]
  },
  {
   "cell_type": "code",
   "execution_count": 0,
   "metadata": {
    "application/vnd.databricks.v1+cell": {
     "cellMetadata": {
      "byteLimit": 2048000,
      "rowLimit": 10000
     },
     "inputWidgets": {},
     "nuid": "436bbfc0-b90d-4202-8e9f-55099321d9ac",
     "showTitle": false,
     "title": ""
    }
   },
   "outputs": [],
   "source": [
    "station_df = spark.read.option(\n",
    "        \"header\", \"true\"\n",
    "    ).option(\n",
    "        \"inferSchema\", \"true\"\n",
    "    ).csv(\n",
    "        \"/FileStore/tables/stationData.csv\"\n",
    "    )\n",
    "\n",
    "trip_df = spark.read.option(\n",
    "        \"header\", \"true\"\n",
    "    ).option(\n",
    "        \"inferSchema\", \"true\"\n",
    "    ).csv(\n",
    "        \"/FileStore/tables/tripData.csv\"\n",
    "    )"
   ]
  },
  {
   "cell_type": "markdown",
   "metadata": {
    "application/vnd.databricks.v1+cell": {
     "cellMetadata": {},
     "inputWidgets": {},
     "nuid": "7af2f8ad-32d3-4d66-9862-b0d2c55e15e5",
     "showTitle": false,
     "title": ""
    }
   },
   "source": [
    "Afficher les schémas des 2 DataFrames."
   ]
  },
  {
   "cell_type": "code",
   "execution_count": 0,
   "metadata": {
    "application/vnd.databricks.v1+cell": {
     "cellMetadata": {
      "byteLimit": 2048000,
      "rowLimit": 10000
     },
     "inputWidgets": {},
     "nuid": "abbf1cb9-e5b9-44fb-840d-c087a91b39ba",
     "showTitle": false,
     "title": ""
    }
   },
   "outputs": [
    {
     "output_type": "stream",
     "name": "stdout",
     "output_type": "stream",
     "text": [
      "root\n |-- station_id: integer (nullable = true)\n |-- name: string (nullable = true)\n |-- lat: double (nullable = true)\n |-- long: double (nullable = true)\n |-- dockcount: integer (nullable = true)\n |-- landmark: string (nullable = true)\n |-- installation: date (nullable = true)\n\nroot\n |-- TripID: integer (nullable = true)\n |-- Duration: integer (nullable = true)\n |-- StartDate: string (nullable = true)\n |-- StartStation: string (nullable = true)\n |-- StartTerminal: integer (nullable = true)\n |-- EndDate: string (nullable = true)\n |-- EndStation: string (nullable = true)\n |-- EndTerminal: integer (nullable = true)\n |-- Bike#: integer (nullable = true)\n |-- SubscriberType: string (nullable = true)\n |-- ZipCode: string (nullable = true)\n\n"
     ]
    }
   ],
   "source": [
    "station_df.printSchema()\n",
    "trip_df.printSchema()"
   ]
  },
  {
   "cell_type": "code",
   "execution_count": 0,
   "metadata": {
    "application/vnd.databricks.v1+cell": {
     "cellMetadata": {},
     "inputWidgets": {},
     "nuid": "6566eb55-2b89-4508-b1a3-8e1ce761acb4",
     "showTitle": false,
     "title": ""
    }
   },
   "outputs": [],
   "source": [
    "# Votre code ici"
   ]
  },
  {
   "cell_type": "markdown",
   "metadata": {
    "application/vnd.databricks.v1+cell": {
     "cellMetadata": {},
     "inputWidgets": {},
     "nuid": "b35305b3-5b4b-411a-80dd-9315b3b8c743",
     "showTitle": false,
     "title": ""
    }
   },
   "source": [
    "Créer une vue pour chaque DataFrame."
   ]
  },
  {
   "cell_type": "code",
   "execution_count": 0,
   "metadata": {
    "application/vnd.databricks.v1+cell": {
     "cellMetadata": {
      "byteLimit": 2048000,
      "rowLimit": 10000
     },
     "inputWidgets": {},
     "nuid": "efee527c-afbe-413d-88f6-d75be200eee3",
     "showTitle": false,
     "title": ""
    }
   },
   "outputs": [],
   "source": [
    "station_df.createOrReplaceTempView(\"station_view\")\n",
    "trip_df.createOrReplaceTempView(\"trip_view\")"
   ]
  },
  {
   "cell_type": "markdown",
   "metadata": {
    "application/vnd.databricks.v1+cell": {
     "cellMetadata": {},
     "inputWidgets": {},
     "nuid": "1cb92e5c-797b-4cad-8392-722d513cfb38",
     "showTitle": false,
     "title": ""
    }
   },
   "source": [
    "Trouver deux façons de calculer le nombre de trajets, l'une en appelant une méthode sur trip_df directement, l'autre en rédigeant une requête SQL de la vue correspondant au DataFrame tripData."
   ]
  },
  {
   "cell_type": "code",
   "execution_count": 0,
   "metadata": {
    "application/vnd.databricks.v1+cell": {
     "cellMetadata": {
      "byteLimit": 2048000,
      "rowLimit": 10000
     },
     "inputWidgets": {},
     "nuid": "b50b63fd-c346-4158-bc06-3b8100194f24",
     "showTitle": false,
     "title": ""
    }
   },
   "outputs": [
    {
     "output_type": "stream",
     "name": "stdout",
     "output_type": "stream",
     "text": [
      "354152\n+--------+\n|count(1)|\n+--------+\n|  354152|\n+--------+\n\n"
     ]
    }
   ],
   "source": [
    "print(trip_df.count())\n",
    "spark.sql(\"SELECT count(*) FROM trip_view\").show()"
   ]
  },
  {
   "cell_type": "markdown",
   "metadata": {
    "application/vnd.databricks.v1+cell": {
     "cellMetadata": {},
     "inputWidgets": {},
     "nuid": "88e8bd91-78fc-4248-8066-ac6b3ece7dfb",
     "showTitle": false,
     "title": ""
    }
   },
   "source": [
    "Ecrire une requête permettant de compter le nombre de trajets qui démarrent et se terminent à la même station."
   ]
  },
  {
   "cell_type": "code",
   "execution_count": 0,
   "metadata": {
    "application/vnd.databricks.v1+cell": {
     "cellMetadata": {
      "byteLimit": 2048000,
      "rowLimit": 10000
     },
     "inputWidgets": {},
     "nuid": "6365c23a-ec09-4ff6-a926-3d8e630c1598",
     "showTitle": false,
     "title": ""
    }
   },
   "outputs": [
    {
     "output_type": "stream",
     "name": "stdout",
     "output_type": "stream",
     "text": [
      "+--------+\n|count(1)|\n+--------+\n|   10276|\n+--------+\n\n"
     ]
    }
   ],
   "source": [
    "spark.sql(\"SELECT count(*) FROM trip_view WHERE StartStation=EndStation\").show()"
   ]
  },
  {
   "cell_type": "markdown",
   "metadata": {
    "application/vnd.databricks.v1+cell": {
     "cellMetadata": {},
     "inputWidgets": {},
     "nuid": "cb480a36-196d-4d88-bd35-12b4ab058136",
     "showTitle": false,
     "title": ""
    }
   },
   "source": [
    "On souhaite désormais obtenir l’id des stations associées à ces trajets. Ecrire une requête renvoyant la liste des terminaux concernés ainsi que le nombre de trajets pour chacun de ces terminaux. Trier le résultat par ordre décroissant de nombre de trajets.\n",
    "<br>Exemple de sortie :\n",
    "<br>+--------+--------+\n",
    "<br>|terminal|count(1)|\n",
    "<br>+--------+--------+\n",
    "<br>| 60| 850|\n",
    "<br>| 50| 708|\n",
    "<br>| 35| 348|\n",
    "<br>| 76| 320|\n",
    "<br>| 74| 307|\n",
    "<br>(La station 60 est la plus concernée par ces trajets cycliques, avec 850 de ces trajets.)"
   ]
  },
  {
   "cell_type": "code",
   "execution_count": 0,
   "metadata": {
    "application/vnd.databricks.v1+cell": {
     "cellMetadata": {
      "byteLimit": 2048000,
      "rowLimit": 10000
     },
     "inputWidgets": {},
     "nuid": "e5c766cd-b7b6-48bf-a516-89eb0ca26aed",
     "showTitle": false,
     "title": ""
    }
   },
   "outputs": [
    {
     "output_type": "stream",
     "name": "stdout",
     "output_type": "stream",
     "text": [
      "+--------+--------+\n|count(1)|terminal|\n+--------+--------+\n|     850|      60|\n|     708|      50|\n|     348|      35|\n|     320|      76|\n|     307|      74|\n|     296|      39|\n|     280|      61|\n|     277|      67|\n|     268|      71|\n|     260|      70|\n|     254|      28|\n|     248|      48|\n|     230|      54|\n|     227|      69|\n|     213|      42|\n|     200|      73|\n|     197|      57|\n|     194|      64|\n|     189|       3|\n|     181|      72|\n+--------+--------+\nonly showing top 20 rows\n\n"
     ]
    }
   ],
   "source": [
    "spark.sql(\n",
    "  \"\"\"\n",
    "  SELECT count(*), StartTerminal as terminal\n",
    "  FROM trip_view\n",
    "  WHERE StartStation=EndStation\n",
    "  GROUP BY StartTerminal\n",
    "  ORDER BY count(*) DESC\n",
    "  \"\"\"\n",
    ").show()"
   ]
  },
  {
   "cell_type": "markdown",
   "metadata": {
    "application/vnd.databricks.v1+cell": {
     "cellMetadata": {},
     "inputWidgets": {},
     "nuid": "5512115f-f2b2-4fef-a466-0847a7ea61c9",
     "showTitle": false,
     "title": ""
    }
   },
   "source": [
    "Dans la requête précédente, nous avons oublié un élément qui nous importe. Nous souhaitons compléter le résultat en indiquant le nombre de docks (dockcount) des stations concernées.\n",
    "<br>Exemple de sortie :\n",
    "<br>+--------+---------+--------+\n",
    "<br>|terminal|dockcount|count(1)|\n",
    "<br>+--------+---------+--------+\n",
    "<br>| 60| 15| 850|\n",
    "<br>| 50| 23| 708|\n",
    "<br>| 35| 11| 348|\n",
    "<br>| 76| 19| 320|\n",
    "<br>| 74| 23| 307|\n",
    "<br>Mettre à jour la requête."
   ]
  },
  {
   "cell_type": "code",
   "execution_count": 0,
   "metadata": {
    "application/vnd.databricks.v1+cell": {
     "cellMetadata": {
      "byteLimit": 2048000,
      "rowLimit": 10000
     },
     "inputWidgets": {},
     "nuid": "57b10704-20f9-4d2f-9f00-111e36fe874d",
     "showTitle": false,
     "title": ""
    }
   },
   "outputs": [
    {
     "output_type": "display_data",
     "data": {
      "text/html": [
       "<style scoped>\n",
       "  .table-result-container {\n",
       "    max-height: 300px;\n",
       "    overflow: auto;\n",
       "  }\n",
       "  table, th, td {\n",
       "    border: 1px solid black;\n",
       "    border-collapse: collapse;\n",
       "  }\n",
       "  th, td {\n",
       "    padding: 5px;\n",
       "  }\n",
       "  th {\n",
       "    text-align: left;\n",
       "  }\n",
       "</style><div class='table-result-container'><table class='table-result'><thead style='background-color: white'><tr><th>station_id</th><th>name</th><th>lat</th><th>long</th><th>dockcount</th><th>landmark</th><th>installation</th></tr></thead><tbody><tr><td>2</td><td>San Jose Diridon Caltrain Station</td><td>37.329732</td><td>-121.901782</td><td>27</td><td>San Jose</td><td>2013-08-06</td></tr><tr><td>3</td><td>San Jose Civic Center</td><td>37.330698</td><td>-121.888979</td><td>15</td><td>San Jose</td><td>2013-08-05</td></tr><tr><td>4</td><td>Santa Clara at Almaden</td><td>37.333988</td><td>-121.894902</td><td>11</td><td>San Jose</td><td>2013-08-06</td></tr><tr><td>5</td><td>Adobe on Almaden</td><td>37.331415</td><td>-121.8932</td><td>19</td><td>San Jose</td><td>2013-08-05</td></tr><tr><td>6</td><td>San Pedro Square</td><td>37.336721</td><td>-121.894074</td><td>15</td><td>San Jose</td><td>2013-08-07</td></tr><tr><td>7</td><td>Paseo de San Antonio</td><td>37.333798</td><td>-121.886943</td><td>15</td><td>San Jose</td><td>2013-08-07</td></tr><tr><td>8</td><td>San Salvador at 1st</td><td>37.330165</td><td>-121.885831</td><td>15</td><td>San Jose</td><td>2013-08-05</td></tr><tr><td>9</td><td>Japantown</td><td>37.348742</td><td>-121.894715</td><td>15</td><td>San Jose</td><td>2013-08-05</td></tr><tr><td>10</td><td>San Jose City Hall</td><td>37.337391</td><td>-121.886995</td><td>15</td><td>San Jose</td><td>2013-08-06</td></tr><tr><td>11</td><td>MLK Library</td><td>37.335885</td><td>-121.88566</td><td>19</td><td>San Jose</td><td>2013-08-06</td></tr><tr><td>12</td><td>SJSU 4th at San Carlos</td><td>37.332808</td><td>-121.883891</td><td>19</td><td>San Jose</td><td>2013-08-07</td></tr><tr><td>13</td><td>St James Park</td><td>37.339301</td><td>-121.889937</td><td>15</td><td>San Jose</td><td>2013-08-06</td></tr><tr><td>14</td><td>Arena Green / SAP Center</td><td>37.332692</td><td>-121.900084</td><td>19</td><td>San Jose</td><td>2013-08-05</td></tr><tr><td>16</td><td>SJSU - San Salvador at 9th</td><td>37.333955</td><td>-121.877349</td><td>15</td><td>San Jose</td><td>2013-08-07</td></tr><tr><td>21</td><td>Franklin at Maple</td><td>37.481758</td><td>-122.226904</td><td>15</td><td>Redwood City</td><td>2013-08-12</td></tr><tr><td>22</td><td>Redwood City Caltrain Station</td><td>37.486078</td><td>-122.232089</td><td>25</td><td>Redwood City</td><td>2013-08-15</td></tr><tr><td>23</td><td>San Mateo County Center</td><td>37.487616</td><td>-122.229951</td><td>15</td><td>Redwood City</td><td>2013-08-15</td></tr><tr><td>24</td><td>Redwood City Public Library</td><td>37.484219</td><td>-122.227424</td><td>15</td><td>Redwood City</td><td>2013-08-12</td></tr><tr><td>25</td><td>Stanford in Redwood City</td><td>37.48537</td><td>-122.203288</td><td>15</td><td>Redwood City</td><td>2013-08-12</td></tr><tr><td>26</td><td>Redwood City Medical Center</td><td>37.487682</td><td>-122.223492</td><td>15</td><td>Redwood City</td><td>2013-08-12</td></tr><tr><td>27</td><td>Mountain View City Hall</td><td>37.389218</td><td>-122.081896</td><td>15</td><td>Mountain View</td><td>2013-08-16</td></tr><tr><td>28</td><td>Mountain View Caltrain Station</td><td>37.394358</td><td>-122.076713</td><td>23</td><td>Mountain View</td><td>2013-08-15</td></tr><tr><td>29</td><td>San Antonio Caltrain Station</td><td>37.40694</td><td>-122.106758</td><td>23</td><td>Mountain View</td><td>2013-08-15</td></tr><tr><td>30</td><td>Evelyn Park and Ride</td><td>37.390277</td><td>-122.066553</td><td>15</td><td>Mountain View</td><td>2013-08-16</td></tr><tr><td>31</td><td>San Antonio Shopping Center</td><td>37.400443</td><td>-122.108338</td><td>15</td><td>Mountain View</td><td>2013-12-31</td></tr><tr><td>32</td><td>Castro Street and El Camino Real</td><td>37.385956</td><td>-122.083678</td><td>11</td><td>Mountain View</td><td>2013-12-31</td></tr><tr><td>33</td><td>Rengstorff Avenue / California Street</td><td>37.400241</td><td>-122.099076</td><td>15</td><td>Mountain View</td><td>2013-08-16</td></tr><tr><td>34</td><td>Palo Alto Caltrain Station</td><td>37.443988</td><td>-122.164759</td><td>23</td><td>Palo Alto</td><td>2013-08-14</td></tr><tr><td>35</td><td>University and Emerson</td><td>37.444521</td><td>-122.163093</td><td>11</td><td>Palo Alto</td><td>2013-08-15</td></tr><tr><td>36</td><td>California Ave Caltrain Station</td><td>37.429082</td><td>-122.142805</td><td>15</td><td>Palo Alto</td><td>2013-08-14</td></tr><tr><td>37</td><td>Cowper at University</td><td>37.448598</td><td>-122.159504</td><td>11</td><td>Palo Alto</td><td>2013-08-14</td></tr><tr><td>38</td><td>Park at Olive</td><td>37.4256839</td><td>-122.1377775</td><td>15</td><td>Palo Alto</td><td>2013-08-14</td></tr><tr><td>41</td><td>Clay at Battery</td><td>37.795001</td><td>-122.39997</td><td>15</td><td>San Francisco</td><td>2013-08-19</td></tr><tr><td>42</td><td>Davis at Jackson</td><td>37.79728</td><td>-122.398436</td><td>15</td><td>San Francisco</td><td>2013-08-19</td></tr><tr><td>45</td><td>Commercial at Montgomery</td><td>37.794231</td><td>-122.402923</td><td>15</td><td>San Francisco</td><td>2013-08-19</td></tr><tr><td>46</td><td>Washington at Kearney</td><td>37.795425</td><td>-122.404767</td><td>15</td><td>San Francisco</td><td>2013-08-19</td></tr><tr><td>47</td><td>Post at Kearney</td><td>37.788975</td><td>-122.403452</td><td>19</td><td>San Francisco</td><td>2013-08-19</td></tr><tr><td>48</td><td>Embarcadero at Vallejo</td><td>37.799953</td><td>-122.398525</td><td>15</td><td>San Francisco</td><td>2013-08-19</td></tr><tr><td>49</td><td>Spear at Folsom</td><td>37.790302</td><td>-122.390637</td><td>19</td><td>San Francisco</td><td>2013-08-20</td></tr><tr><td>50</td><td>Harry Bridges Plaza (Ferry Building)</td><td>37.795392</td><td>-122.394203</td><td>23</td><td>San Francisco</td><td>2013-08-20</td></tr><tr><td>51</td><td>Embarcadero at Folsom</td><td>37.791464</td><td>-122.391034</td><td>19</td><td>San Francisco</td><td>2013-08-20</td></tr><tr><td>39</td><td>Powell Street BART</td><td>37.783871</td><td>-122.408433</td><td>19</td><td>San Francisco</td><td>2013-08-25</td></tr><tr><td>54</td><td>Embarcadero at Bryant</td><td>37.787152</td><td>-122.388013</td><td>15</td><td>San Francisco</td><td>2013-08-20</td></tr><tr><td>55</td><td>Temporary Transbay Terminal (Howard at Beale)</td><td>37.789756</td><td>-122.394643</td><td>23</td><td>San Francisco</td><td>2013-08-20</td></tr><tr><td>56</td><td>Beale at Market</td><td>37.792251</td><td>-122.397086</td><td>19</td><td>San Francisco</td><td>2013-08-20</td></tr><tr><td>57</td><td>5th at Howard</td><td>37.781752</td><td>-122.405127</td><td>15</td><td>San Francisco</td><td>2013-08-21</td></tr><tr><td>58</td><td>San Francisco City Hall</td><td>37.77865</td><td>-122.418235</td><td>19</td><td>San Francisco</td><td>2013-08-21</td></tr><tr><td>59</td><td>Golden Gate at Polk</td><td>37.781332</td><td>-122.418603</td><td>23</td><td>San Francisco</td><td>2013-08-21</td></tr><tr><td>60</td><td>Embarcadero at Sansome</td><td>37.80477</td><td>-122.403234</td><td>15</td><td>San Francisco</td><td>2013-08-21</td></tr><tr><td>61</td><td>2nd at Townsend</td><td>37.780526</td><td>-122.390288</td><td>27</td><td>San Francisco</td><td>2013-08-22</td></tr><tr><td>62</td><td>2nd at Folsom</td><td>37.785299</td><td>-122.396236</td><td>19</td><td>San Francisco</td><td>2013-08-22</td></tr><tr><td>63</td><td>Howard at 2nd</td><td>37.786978</td><td>-122.398108</td><td>19</td><td>San Francisco</td><td>2013-08-22</td></tr><tr><td>64</td><td>2nd at South Park</td><td>37.782259</td><td>-122.392738</td><td>15</td><td>San Francisco</td><td>2013-08-22</td></tr><tr><td>65</td><td>Townsend at 7th</td><td>37.771058</td><td>-122.402717</td><td>15</td><td>San Francisco</td><td>2013-08-22</td></tr><tr><td>66</td><td>South Van Ness at Market</td><td>37.774814</td><td>-122.418954</td><td>19</td><td>San Francisco</td><td>2013-08-23</td></tr><tr><td>67</td><td>Market at 10th</td><td>37.776619</td><td>-122.417385</td><td>27</td><td>San Francisco</td><td>2013-08-23</td></tr><tr><td>68</td><td>Yerba Buena Center of the Arts (3rd @ Howard)</td><td>37.784878</td><td>-122.401014</td><td>19</td><td>San Francisco</td><td>2013-08-23</td></tr><tr><td>69</td><td>San Francisco Caltrain 2 (330 Townsend)</td><td>37.7766</td><td>-122.39547</td><td>23</td><td>San Francisco</td><td>2013-08-23</td></tr><tr><td>70</td><td>San Francisco Caltrain (Townsend at 4th)</td><td>37.776617</td><td>-122.39526</td><td>19</td><td>San Francisco</td><td>2013-08-23</td></tr><tr><td>71</td><td>Powell at Post (Union Square)</td><td>37.788446</td><td>-122.408499</td><td>19</td><td>San Francisco</td><td>2013-08-23</td></tr><tr><td>72</td><td>Civic Center BART (7th at Market)</td><td>37.781039</td><td>-122.411748</td><td>23</td><td>San Francisco</td><td>2013-08-23</td></tr><tr><td>73</td><td>Grant Avenue at Columbus Avenue</td><td>37.798522</td><td>-122.407245</td><td>15</td><td>San Francisco</td><td>2013-08-21</td></tr><tr><td>74</td><td>Steuart at Market</td><td>37.794139</td><td>-122.394434</td><td>23</td><td>San Francisco</td><td>2013-08-25</td></tr><tr><td>75</td><td>Mechanics Plaza (Market at Battery)</td><td>37.7913</td><td>-122.399051</td><td>19</td><td>San Francisco</td><td>2013-08-25</td></tr><tr><td>76</td><td>Market at 4th</td><td>37.786305</td><td>-122.404966</td><td>19</td><td>San Francisco</td><td>2013-08-25</td></tr><tr><td>77</td><td>Market at Sansome</td><td>37.789625</td><td>-122.400811</td><td>27</td><td>San Francisco</td><td>2013-08-25</td></tr><tr><td>80</td><td>Santa Clara County Civic Center</td><td>37.352601</td><td>-121.905733</td><td>15</td><td>San Jose</td><td>2013-12-31</td></tr><tr><td>82</td><td>Broadway St at Battery St</td><td>37.798541</td><td>-122.400862</td><td>15</td><td>San Francisco</td><td>2014-01-22</td></tr><tr><td>83</td><td>Mezes Park</td><td>37.491269</td><td>-122.236234</td><td>15</td><td>Redwood City</td><td>2014-02-20</td></tr><tr><td>84</td><td>Ryland Park</td><td>37.342725</td><td>-121.895617</td><td>15</td><td>San Jose</td><td>2014-04-09</td></tr></tbody></table></div>"
      ]
     },
     "metadata": {
      "application/vnd.databricks.v1+output": {
       "addedWidgets": {},
       "aggData": [],
       "aggError": "",
       "aggOverflow": false,
       "aggSchema": [],
       "aggSeriesLimitReached": false,
       "aggType": "",
       "arguments": {},
       "columnCustomDisplayInfos": {},
       "data": [
        [
         2,
         "San Jose Diridon Caltrain Station",
         37.329732,
         -121.901782,
         27,
         "San Jose",
         "2013-08-06"
        ],
        [
         3,
         "San Jose Civic Center",
         37.330698,
         -121.888979,
         15,
         "San Jose",
         "2013-08-05"
        ],
        [
         4,
         "Santa Clara at Almaden",
         37.333988,
         -121.894902,
         11,
         "San Jose",
         "2013-08-06"
        ],
        [
         5,
         "Adobe on Almaden",
         37.331415,
         -121.8932,
         19,
         "San Jose",
         "2013-08-05"
        ],
        [
         6,
         "San Pedro Square",
         37.336721,
         -121.894074,
         15,
         "San Jose",
         "2013-08-07"
        ],
        [
         7,
         "Paseo de San Antonio",
         37.333798,
         -121.886943,
         15,
         "San Jose",
         "2013-08-07"
        ],
        [
         8,
         "San Salvador at 1st",
         37.330165,
         -121.885831,
         15,
         "San Jose",
         "2013-08-05"
        ],
        [
         9,
         "Japantown",
         37.348742,
         -121.894715,
         15,
         "San Jose",
         "2013-08-05"
        ],
        [
         10,
         "San Jose City Hall",
         37.337391,
         -121.886995,
         15,
         "San Jose",
         "2013-08-06"
        ],
        [
         11,
         "MLK Library",
         37.335885,
         -121.88566,
         19,
         "San Jose",
         "2013-08-06"
        ],
        [
         12,
         "SJSU 4th at San Carlos",
         37.332808,
         -121.883891,
         19,
         "San Jose",
         "2013-08-07"
        ],
        [
         13,
         "St James Park",
         37.339301,
         -121.889937,
         15,
         "San Jose",
         "2013-08-06"
        ],
        [
         14,
         "Arena Green / SAP Center",
         37.332692,
         -121.900084,
         19,
         "San Jose",
         "2013-08-05"
        ],
        [
         16,
         "SJSU - San Salvador at 9th",
         37.333955,
         -121.877349,
         15,
         "San Jose",
         "2013-08-07"
        ],
        [
         21,
         "Franklin at Maple",
         37.481758,
         -122.226904,
         15,
         "Redwood City",
         "2013-08-12"
        ],
        [
         22,
         "Redwood City Caltrain Station",
         37.486078,
         -122.232089,
         25,
         "Redwood City",
         "2013-08-15"
        ],
        [
         23,
         "San Mateo County Center",
         37.487616,
         -122.229951,
         15,
         "Redwood City",
         "2013-08-15"
        ],
        [
         24,
         "Redwood City Public Library",
         37.484219,
         -122.227424,
         15,
         "Redwood City",
         "2013-08-12"
        ],
        [
         25,
         "Stanford in Redwood City",
         37.48537,
         -122.203288,
         15,
         "Redwood City",
         "2013-08-12"
        ],
        [
         26,
         "Redwood City Medical Center",
         37.487682,
         -122.223492,
         15,
         "Redwood City",
         "2013-08-12"
        ],
        [
         27,
         "Mountain View City Hall",
         37.389218,
         -122.081896,
         15,
         "Mountain View",
         "2013-08-16"
        ],
        [
         28,
         "Mountain View Caltrain Station",
         37.394358,
         -122.076713,
         23,
         "Mountain View",
         "2013-08-15"
        ],
        [
         29,
         "San Antonio Caltrain Station",
         37.40694,
         -122.106758,
         23,
         "Mountain View",
         "2013-08-15"
        ],
        [
         30,
         "Evelyn Park and Ride",
         37.390277,
         -122.066553,
         15,
         "Mountain View",
         "2013-08-16"
        ],
        [
         31,
         "San Antonio Shopping Center",
         37.400443,
         -122.108338,
         15,
         "Mountain View",
         "2013-12-31"
        ],
        [
         32,
         "Castro Street and El Camino Real",
         37.385956,
         -122.083678,
         11,
         "Mountain View",
         "2013-12-31"
        ],
        [
         33,
         "Rengstorff Avenue / California Street",
         37.400241,
         -122.099076,
         15,
         "Mountain View",
         "2013-08-16"
        ],
        [
         34,
         "Palo Alto Caltrain Station",
         37.443988,
         -122.164759,
         23,
         "Palo Alto",
         "2013-08-14"
        ],
        [
         35,
         "University and Emerson",
         37.444521,
         -122.163093,
         11,
         "Palo Alto",
         "2013-08-15"
        ],
        [
         36,
         "California Ave Caltrain Station",
         37.429082,
         -122.142805,
         15,
         "Palo Alto",
         "2013-08-14"
        ],
        [
         37,
         "Cowper at University",
         37.448598,
         -122.159504,
         11,
         "Palo Alto",
         "2013-08-14"
        ],
        [
         38,
         "Park at Olive",
         37.4256839,
         -122.1377775,
         15,
         "Palo Alto",
         "2013-08-14"
        ],
        [
         41,
         "Clay at Battery",
         37.795001,
         -122.39997,
         15,
         "San Francisco",
         "2013-08-19"
        ],
        [
         42,
         "Davis at Jackson",
         37.79728,
         -122.398436,
         15,
         "San Francisco",
         "2013-08-19"
        ],
        [
         45,
         "Commercial at Montgomery",
         37.794231,
         -122.402923,
         15,
         "San Francisco",
         "2013-08-19"
        ],
        [
         46,
         "Washington at Kearney",
         37.795425,
         -122.404767,
         15,
         "San Francisco",
         "2013-08-19"
        ],
        [
         47,
         "Post at Kearney",
         37.788975,
         -122.403452,
         19,
         "San Francisco",
         "2013-08-19"
        ],
        [
         48,
         "Embarcadero at Vallejo",
         37.799953,
         -122.398525,
         15,
         "San Francisco",
         "2013-08-19"
        ],
        [
         49,
         "Spear at Folsom",
         37.790302,
         -122.390637,
         19,
         "San Francisco",
         "2013-08-20"
        ],
        [
         50,
         "Harry Bridges Plaza (Ferry Building)",
         37.795392,
         -122.394203,
         23,
         "San Francisco",
         "2013-08-20"
        ],
        [
         51,
         "Embarcadero at Folsom",
         37.791464,
         -122.391034,
         19,
         "San Francisco",
         "2013-08-20"
        ],
        [
         39,
         "Powell Street BART",
         37.783871,
         -122.408433,
         19,
         "San Francisco",
         "2013-08-25"
        ],
        [
         54,
         "Embarcadero at Bryant",
         37.787152,
         -122.388013,
         15,
         "San Francisco",
         "2013-08-20"
        ],
        [
         55,
         "Temporary Transbay Terminal (Howard at Beale)",
         37.789756,
         -122.394643,
         23,
         "San Francisco",
         "2013-08-20"
        ],
        [
         56,
         "Beale at Market",
         37.792251,
         -122.397086,
         19,
         "San Francisco",
         "2013-08-20"
        ],
        [
         57,
         "5th at Howard",
         37.781752,
         -122.405127,
         15,
         "San Francisco",
         "2013-08-21"
        ],
        [
         58,
         "San Francisco City Hall",
         37.77865,
         -122.418235,
         19,
         "San Francisco",
         "2013-08-21"
        ],
        [
         59,
         "Golden Gate at Polk",
         37.781332,
         -122.418603,
         23,
         "San Francisco",
         "2013-08-21"
        ],
        [
         60,
         "Embarcadero at Sansome",
         37.80477,
         -122.403234,
         15,
         "San Francisco",
         "2013-08-21"
        ],
        [
         61,
         "2nd at Townsend",
         37.780526,
         -122.390288,
         27,
         "San Francisco",
         "2013-08-22"
        ],
        [
         62,
         "2nd at Folsom",
         37.785299,
         -122.396236,
         19,
         "San Francisco",
         "2013-08-22"
        ],
        [
         63,
         "Howard at 2nd",
         37.786978,
         -122.398108,
         19,
         "San Francisco",
         "2013-08-22"
        ],
        [
         64,
         "2nd at South Park",
         37.782259,
         -122.392738,
         15,
         "San Francisco",
         "2013-08-22"
        ],
        [
         65,
         "Townsend at 7th",
         37.771058,
         -122.402717,
         15,
         "San Francisco",
         "2013-08-22"
        ],
        [
         66,
         "South Van Ness at Market",
         37.774814,
         -122.418954,
         19,
         "San Francisco",
         "2013-08-23"
        ],
        [
         67,
         "Market at 10th",
         37.776619,
         -122.417385,
         27,
         "San Francisco",
         "2013-08-23"
        ],
        [
         68,
         "Yerba Buena Center of the Arts (3rd @ Howard)",
         37.784878,
         -122.401014,
         19,
         "San Francisco",
         "2013-08-23"
        ],
        [
         69,
         "San Francisco Caltrain 2 (330 Townsend)",
         37.7766,
         -122.39547,
         23,
         "San Francisco",
         "2013-08-23"
        ],
        [
         70,
         "San Francisco Caltrain (Townsend at 4th)",
         37.776617,
         -122.39526,
         19,
         "San Francisco",
         "2013-08-23"
        ],
        [
         71,
         "Powell at Post (Union Square)",
         37.788446,
         -122.408499,
         19,
         "San Francisco",
         "2013-08-23"
        ],
        [
         72,
         "Civic Center BART (7th at Market)",
         37.781039,
         -122.411748,
         23,
         "San Francisco",
         "2013-08-23"
        ],
        [
         73,
         "Grant Avenue at Columbus Avenue",
         37.798522,
         -122.407245,
         15,
         "San Francisco",
         "2013-08-21"
        ],
        [
         74,
         "Steuart at Market",
         37.794139,
         -122.394434,
         23,
         "San Francisco",
         "2013-08-25"
        ],
        [
         75,
         "Mechanics Plaza (Market at Battery)",
         37.7913,
         -122.399051,
         19,
         "San Francisco",
         "2013-08-25"
        ],
        [
         76,
         "Market at 4th",
         37.786305,
         -122.404966,
         19,
         "San Francisco",
         "2013-08-25"
        ],
        [
         77,
         "Market at Sansome",
         37.789625,
         -122.400811,
         27,
         "San Francisco",
         "2013-08-25"
        ],
        [
         80,
         "Santa Clara County Civic Center",
         37.352601,
         -121.905733,
         15,
         "San Jose",
         "2013-12-31"
        ],
        [
         82,
         "Broadway St at Battery St",
         37.798541,
         -122.400862,
         15,
         "San Francisco",
         "2014-01-22"
        ],
        [
         83,
         "Mezes Park",
         37.491269,
         -122.236234,
         15,
         "Redwood City",
         "2014-02-20"
        ],
        [
         84,
         "Ryland Park",
         37.342725,
         -121.895617,
         15,
         "San Jose",
         "2014-04-09"
        ]
       ],
       "datasetInfos": [],
       "dbfsResultPath": null,
       "isJsonSchema": true,
       "metadata": {},
       "overflow": false,
       "plotOptions": {
        "customPlotOptions": {},
        "displayType": "table",
        "pivotAggregation": null,
        "pivotColumns": null,
        "xColumns": null,
        "yColumns": null
       },
       "removedWidgets": [],
       "schema": [
        {
         "metadata": "{}",
         "name": "station_id",
         "type": "\"integer\""
        },
        {
         "metadata": "{}",
         "name": "name",
         "type": "\"string\""
        },
        {
         "metadata": "{}",
         "name": "lat",
         "type": "\"double\""
        },
        {
         "metadata": "{}",
         "name": "long",
         "type": "\"double\""
        },
        {
         "metadata": "{}",
         "name": "dockcount",
         "type": "\"integer\""
        },
        {
         "metadata": "{}",
         "name": "landmark",
         "type": "\"string\""
        },
        {
         "metadata": "{\"__detected_date_formats\":\"M/d/yyyy\"}",
         "name": "installation",
         "type": "\"date\""
        }
       ],
       "type": "table"
      }
     },
     "output_type": "display_data"
    }
   ],
   "source": [
    "display(station_df)"
   ]
  },
  {
   "cell_type": "code",
   "execution_count": 0,
   "metadata": {
    "application/vnd.databricks.v1+cell": {
     "cellMetadata": {
      "byteLimit": 2048000,
      "rowLimit": 10000
     },
     "inputWidgets": {},
     "nuid": "9b4a2b7f-a932-4575-bdc4-d15593a184f7",
     "showTitle": false,
     "title": ""
    }
   },
   "outputs": [
    {
     "output_type": "stream",
     "name": "stdout",
     "output_type": "stream",
     "text": [
      "+--------+--------+---------+\n|count(1)|terminal|dockcount|\n+--------+--------+---------+\n|     850|      60|       15|\n|     708|      50|       23|\n|     348|      35|       11|\n|     320|      76|       19|\n|     307|      74|       23|\n|     296|      39|       19|\n|     280|      61|       27|\n|     277|      67|       27|\n|     268|      71|       19|\n|     260|      70|       19|\n|     254|      28|       23|\n|     248|      48|       15|\n|     230|      54|       15|\n|     227|      69|       23|\n|     213|      42|       15|\n|     200|      73|       15|\n|     197|      57|       15|\n|     194|      64|       15|\n|     189|       3|       15|\n|     181|      72|       23|\n+--------+--------+---------+\nonly showing top 20 rows\n\n"
     ]
    }
   ],
   "source": [
    "spark.sql(\n",
    "  \"\"\"\n",
    "  SELECT count(*), StartTerminal as terminal, dockcount\n",
    "  FROM trip_view, station_view\n",
    "  WHERE StartStation=EndStation AND StartTerminal=station_id\n",
    "  GROUP BY StartTerminal, dockcount\n",
    "  ORDER BY count(*) DESC\n",
    "  \"\"\"\n",
    ").show()"
   ]
  },
  {
   "cell_type": "markdown",
   "metadata": {
    "application/vnd.databricks.v1+cell": {
     "cellMetadata": {},
     "inputWidgets": {},
     "nuid": "85ca6c3d-0c56-4e48-9a52-d5e726699e1c",
     "showTitle": false,
     "title": ""
    }
   },
   "source": [
    "Rédiger les 2 requêtes précédentes avec le DSL de DataFrame."
   ]
  },
  {
   "cell_type": "code",
   "execution_count": 0,
   "metadata": {
    "application/vnd.databricks.v1+cell": {
     "cellMetadata": {
      "byteLimit": 2048000,
      "rowLimit": 10000
     },
     "inputWidgets": {},
     "nuid": "1c956dd4-dab0-4c4e-94f8-5c46cf63f004",
     "showTitle": false,
     "title": ""
    }
   },
   "outputs": [],
   "source": [
    "from pyspark.sql.functions import col, desc"
   ]
  },
  {
   "cell_type": "code",
   "execution_count": 0,
   "metadata": {
    "application/vnd.databricks.v1+cell": {
     "cellMetadata": {},
     "inputWidgets": {},
     "nuid": "ea200ee9-eab9-4324-a5a5-663a50aecd04",
     "showTitle": false,
     "title": ""
    }
   },
   "outputs": [],
   "source": [
    "spark.sql(\n",
    "  \"\"\"\n",
    "  SELECT count(*), StartTerminal as terminal\n",
    "  FROM trip_view\n",
    "  WHERE StartStation=EndStation\n",
    "  GROUP BY StartTerminal\n",
    "  ORDER BY count(*) DESC\n",
    "  \"\"\"\n",
    ").show()"
   ]
  },
  {
   "cell_type": "code",
   "execution_count": 0,
   "metadata": {
    "application/vnd.databricks.v1+cell": {
     "cellMetadata": {
      "byteLimit": 2048000,
      "rowLimit": 10000
     },
     "inputWidgets": {},
     "nuid": "4b61df3b-6e86-4145-a96d-92cba40f5f3d",
     "showTitle": false,
     "title": ""
    }
   },
   "outputs": [
    {
     "output_type": "stream",
     "name": "stdout",
     "output_type": "stream",
     "text": [
      "+-------------+-----+\n|StartTerminal|count|\n+-------------+-----+\n|           60|  850|\n|           50|  708|\n|           35|  348|\n|           76|  320|\n|           74|  307|\n|           39|  296|\n|           61|  280|\n|           67|  277|\n|           71|  268|\n|           70|  260|\n|           28|  254|\n|           48|  248|\n|           54|  230|\n|           69|  227|\n|           42|  213|\n|           73|  200|\n|           57|  197|\n|           64|  194|\n|            3|  189|\n|           72|  181|\n+-------------+-----+\nonly showing top 20 rows\n\n"
     ]
    }
   ],
   "source": [
    "trip_df.filter(\n",
    "    col(\"StartStation\") == col(\"EndStation\")\n",
    ").groupBy(\n",
    "    \"StartTerminal\"\n",
    ").count(\n",
    ").orderBy(\n",
    "    \"count\", ascending=False\n",
    ").show()"
   ]
  },
  {
   "cell_type": "code",
   "execution_count": 0,
   "metadata": {
    "application/vnd.databricks.v1+cell": {
     "cellMetadata": {
      "byteLimit": 2048000,
      "rowLimit": 10000
     },
     "inputWidgets": {},
     "nuid": "6f77017c-4e95-4f91-97ef-95f8bc4dbaa4",
     "showTitle": false,
     "title": ""
    }
   },
   "outputs": [],
   "source": [
    "final_count_df = trip_df.filter(\n",
    "    col(\"StartStation\") == col(\"EndStation\")\n",
    ").join(\n",
    "    station_df,\n",
    "    trip_df[\"StartTerminal\"] == station_df[\"station_id\"],\n",
    ").groupBy(\n",
    "    \"StartTerminal\",\n",
    "    \"dockcount\",\n",
    ").count(\n",
    ").orderBy(\n",
    "    \"count\", ascending=False\n",
    ")"
   ]
  },
  {
   "cell_type": "markdown",
   "metadata": {
    "application/vnd.databricks.v1+cell": {
     "cellMetadata": {},
     "inputWidgets": {},
     "nuid": "c25a1c70-14b9-48dd-9f8d-96e8d6e7eec2",
     "showTitle": false,
     "title": ""
    }
   },
   "source": [
    "Observer le plan d’exécution des requêtes (avec df.explain())."
   ]
  },
  {
   "cell_type": "code",
   "execution_count": 0,
   "metadata": {
    "application/vnd.databricks.v1+cell": {
     "cellMetadata": {
      "byteLimit": 2048000,
      "rowLimit": 10000
     },
     "inputWidgets": {},
     "nuid": "82b85a3c-55f6-42dc-be19-a0099d957fa8",
     "showTitle": false,
     "title": ""
    }
   },
   "outputs": [
    {
     "output_type": "stream",
     "name": "stdout",
     "output_type": "stream",
     "text": [
      "== Physical Plan ==\nAdaptiveSparkPlan isFinalPlan=false\n+- == Current Plan ==\n   Sort [count#1058L DESC NULLS LAST], true, 0\n   +- ShuffleQueryStage 2, Statistics(sizeInBytes=12.8 KiB, rowCount=544, isRuntime=true)\n      +- Exchange rangepartitioning(count#1058L DESC NULLS LAST, 200), ENSURE_REQUIREMENTS, [plan_id=2252]\n         +- *(3) Project [StartTerminal#200, dockcount#169, count(1)#1057L AS count#1058L]\n            +- *(3) HashAggregate(keys=[StartTerminal#200, dockcount#169], functions=[finalmerge_count(merge count#1063L) AS count(1)#1057L])\n               +- AQEShuffleRead coalesced\n                  +- ShuffleQueryStage 1, Statistics(sizeInBytes=17.0 KiB, rowCount=544, isRuntime=true)\n                     +- Exchange hashpartitioning(StartTerminal#200, dockcount#169, 200), ENSURE_REQUIREMENTS, [plan_id=2216]\n                        +- *(2) HashAggregate(keys=[StartTerminal#200, dockcount#169], functions=[merge_count(merge count#1063L) AS count#1063L])\n                           +- *(2) Project [StartTerminal#200, dockcount#169, count#1063L]\n                              +- *(2) BroadcastHashJoin [StartTerminal#200], [station_id#165], Inner, BuildRight, false, true\n                                 :- *(2) HashAggregate(keys=[StartTerminal#200], functions=[partial_count(1) AS count#1063L])\n                                 :  +- *(2) Project [StartTerminal#200]\n                                 :     +- *(2) Filter (((isnotnull(StartStation#199) AND isnotnull(EndStation#202)) AND (StartStation#199 = EndStation#202)) AND isnotnull(StartTerminal#200))\n                                 :        +- FileScan csv [StartStation#199,StartTerminal#200,EndStation#202] Batched: false, DataFilters: [isnotnull(StartStation#199), isnotnull(EndStation#202), (StartStation#199 = EndStation#202), isn..., Format: CSV, Location: InMemoryFileIndex(1 paths)[dbfs:/FileStore/tables/tripData.csv], PartitionFilters: [], PushedFilters: [IsNotNull(StartStation), IsNotNull(EndStation), IsNotNull(StartTerminal)], ReadSchema: struct<StartStation:string,StartTerminal:int,EndStation:string>\n                                 +- ShuffleQueryStage 0, Statistics(sizeInBytes=1680.0 B, rowCount=70, isRuntime=true)\n                                    +- Exchange SinglePartition, EXECUTOR_BROADCAST, [plan_id=2037]\n                                       +- *(1) Filter isnotnull(station_id#165)\n                                          +- FileScan csv [station_id#165,dockcount#169] Batched: false, DataFilters: [isnotnull(station_id#165)], Format: CSV, Location: InMemoryFileIndex(1 paths)[dbfs:/FileStore/tables/stationData.csv], PartitionFilters: [], PushedFilters: [IsNotNull(station_id)], ReadSchema: struct<station_id:int,dockcount:int>\n+- == Initial Plan ==\n   Sort [count#1058L DESC NULLS LAST], true, 0\n   +- Exchange rangepartitioning(count#1058L DESC NULLS LAST, 200), ENSURE_REQUIREMENTS, [plan_id=1872]\n      +- Project [StartTerminal#200, dockcount#169, count(1)#1057L AS count#1058L]\n         +- HashAggregate(keys=[StartTerminal#200, dockcount#169], functions=[finalmerge_count(merge count#1063L) AS count(1)#1057L])\n            +- Exchange hashpartitioning(StartTerminal#200, dockcount#169, 200), ENSURE_REQUIREMENTS, [plan_id=1868]\n               +- HashAggregate(keys=[StartTerminal#200, dockcount#169], functions=[merge_count(merge count#1063L) AS count#1063L])\n                  +- Project [StartTerminal#200, dockcount#169, count#1063L]\n                     +- BroadcastHashJoin [StartTerminal#200], [station_id#165], Inner, BuildRight, false, true\n                        :- HashAggregate(keys=[StartTerminal#200], functions=[partial_count(1) AS count#1063L])\n                        :  +- Project [StartTerminal#200]\n                        :     +- Filter (((isnotnull(StartStation#199) AND isnotnull(EndStation#202)) AND (StartStation#199 = EndStation#202)) AND isnotnull(StartTerminal#200))\n                        :        +- FileScan csv [StartStation#199,StartTerminal#200,EndStation#202] Batched: false, DataFilters: [isnotnull(StartStation#199), isnotnull(EndStation#202), (StartStation#199 = EndStation#202), isn..., Format: CSV, Location: InMemoryFileIndex(1 paths)[dbfs:/FileStore/tables/tripData.csv], PartitionFilters: [], PushedFilters: [IsNotNull(StartStation), IsNotNull(EndStation), IsNotNull(StartTerminal)], ReadSchema: struct<StartStation:string,StartTerminal:int,EndStation:string>\n                        +- Exchange SinglePartition, EXECUTOR_BROADCAST, [plan_id=1863]\n                           +- Filter isnotnull(station_id#165)\n                              +- FileScan csv [station_id#165,dockcount#169] Batched: false, DataFilters: [isnotnull(station_id#165)], Format: CSV, Location: InMemoryFileIndex(1 paths)[dbfs:/FileStore/tables/stationData.csv], PartitionFilters: [], PushedFilters: [IsNotNull(station_id)], ReadSchema: struct<station_id:int,dockcount:int>\n\n\n"
     ]
    }
   ],
   "source": [
    "final_count_df.explain()"
   ]
  },
  {
   "cell_type": "code",
   "execution_count": 0,
   "metadata": {
    "application/vnd.databricks.v1+cell": {
     "cellMetadata": {
      "byteLimit": 2048000,
      "rowLimit": 10000
     },
     "inputWidgets": {},
     "nuid": "fc63cf95-f8ce-4c2d-a44a-090920f6722c",
     "showTitle": false,
     "title": ""
    }
   },
   "outputs": [
    {
     "output_type": "stream",
     "name": "stdout",
     "output_type": "stream",
     "text": [
      "+-------------+---------+-----+\n|StartTerminal|dockcount|count|\n+-------------+---------+-----+\n|           60|       15|  850|\n|           50|       23|  708|\n|           35|       11|  348|\n|           76|       19|  320|\n|           74|       23|  307|\n|           39|       19|  296|\n|           61|       27|  280|\n|           67|       27|  277|\n|           71|       19|  268|\n|           70|       19|  260|\n|           28|       23|  254|\n|           48|       15|  248|\n|           54|       15|  230|\n|           69|       23|  227|\n|           42|       15|  213|\n|           73|       15|  200|\n|           57|       15|  197|\n|           64|       15|  194|\n|            3|       15|  189|\n|           72|       23|  181|\n+-------------+---------+-----+\nonly showing top 20 rows\n\n== Physical Plan ==\nAdaptiveSparkPlan isFinalPlan=true\n+- == Final Plan ==\n   Sort [count#1058L DESC NULLS LAST], true, 0\n   +- AQEShuffleRead coalesced\n      +- ShuffleQueryStage 2, Statistics(sizeInBytes=2.2 KiB, rowCount=70, isRuntime=true)\n         +- Exchange rangepartitioning(count#1058L DESC NULLS LAST, 200), ENSURE_REQUIREMENTS, [plan_id=2252]\n            +- *(3) Project [StartTerminal#200, dockcount#169, count(1)#1057L AS count#1058L]\n               +- *(3) HashAggregate(keys=[StartTerminal#200, dockcount#169], functions=[finalmerge_count(merge count#1063L) AS count(1)#1057L])\n                  +- AQEShuffleRead coalesced\n                     +- ShuffleQueryStage 1, Statistics(sizeInBytes=17.0 KiB, rowCount=544, isRuntime=true)\n                        +- Exchange hashpartitioning(StartTerminal#200, dockcount#169, 200), ENSURE_REQUIREMENTS, [plan_id=2216]\n                           +- *(2) HashAggregate(keys=[StartTerminal#200, dockcount#169], functions=[merge_count(merge count#1063L) AS count#1063L])\n                              +- *(2) Project [StartTerminal#200, dockcount#169, count#1063L]\n                                 +- *(2) BroadcastHashJoin [StartTerminal#200], [station_id#165], Inner, BuildRight, false, true\n                                    :- *(2) HashAggregate(keys=[StartTerminal#200], functions=[partial_count(1) AS count#1063L])\n                                    :  +- *(2) Project [StartTerminal#200]\n                                    :     +- *(2) Filter (((isnotnull(StartStation#199) AND isnotnull(EndStation#202)) AND (StartStation#199 = EndStation#202)) AND isnotnull(StartTerminal#200))\n                                    :        +- FileScan csv [StartStation#199,StartTerminal#200,EndStation#202] Batched: false, DataFilters: [isnotnull(StartStation#199), isnotnull(EndStation#202), (StartStation#199 = EndStation#202), isn..., Format: CSV, Location: InMemoryFileIndex(1 paths)[dbfs:/FileStore/tables/tripData.csv], PartitionFilters: [], PushedFilters: [IsNotNull(StartStation), IsNotNull(EndStation), IsNotNull(StartTerminal)], ReadSchema: struct<StartStation:string,StartTerminal:int,EndStation:string>\n                                    +- ShuffleQueryStage 0, Statistics(sizeInBytes=1680.0 B, rowCount=70, isRuntime=true)\n                                       +- Exchange SinglePartition, EXECUTOR_BROADCAST, [plan_id=2037]\n                                          +- *(1) Filter isnotnull(station_id#165)\n                                             +- FileScan csv [station_id#165,dockcount#169] Batched: false, DataFilters: [isnotnull(station_id#165)], Format: CSV, Location: InMemoryFileIndex(1 paths)[dbfs:/FileStore/tables/stationData.csv], PartitionFilters: [], PushedFilters: [IsNotNull(station_id)], ReadSchema: struct<station_id:int,dockcount:int>\n+- == Initial Plan ==\n   Sort [count#1058L DESC NULLS LAST], true, 0\n   +- Exchange rangepartitioning(count#1058L DESC NULLS LAST, 200), ENSURE_REQUIREMENTS, [plan_id=1872]\n      +- Project [StartTerminal#200, dockcount#169, count(1)#1057L AS count#1058L]\n         +- HashAggregate(keys=[StartTerminal#200, dockcount#169], functions=[finalmerge_count(merge count#1063L) AS count(1)#1057L])\n            +- Exchange hashpartitioning(StartTerminal#200, dockcount#169, 200), ENSURE_REQUIREMENTS, [plan_id=1868]\n               +- HashAggregate(keys=[StartTerminal#200, dockcount#169], functions=[merge_count(merge count#1063L) AS count#1063L])\n                  +- Project [StartTerminal#200, dockcount#169, count#1063L]\n                     +- BroadcastHashJoin [StartTerminal#200], [station_id#165], Inner, BuildRight, false, true\n                        :- HashAggregate(keys=[StartTerminal#200], functions=[partial_count(1) AS count#1063L])\n                        :  +- Project [StartTerminal#200]\n                        :     +- Filter (((isnotnull(StartStation#199) AND isnotnull(EndStation#202)) AND (StartStation#199 = EndStation#202)) AND isnotnull(StartTerminal#200))\n                        :        +- FileScan csv [StartStation#199,StartTerminal#200,EndStation#202] Batched: false, DataFilters: [isnotnull(StartStation#199), isnotnull(EndStation#202), (StartStation#199 = EndStation#202), isn..., Format: CSV, Location: InMemoryFileIndex(1 paths)[dbfs:/FileStore/tables/tripData.csv], PartitionFilters: [], PushedFilters: [IsNotNull(StartStation), IsNotNull(EndStation), IsNotNull(StartTerminal)], ReadSchema: struct<StartStation:string,StartTerminal:int,EndStation:string>\n                        +- Exchange SinglePartition, EXECUTOR_BROADCAST, [plan_id=1863]\n                           +- Filter isnotnull(station_id#165)\n                              +- FileScan csv [station_id#165,dockcount#169] Batched: false, DataFilters: [isnotnull(station_id#165)], Format: CSV, Location: InMemoryFileIndex(1 paths)[dbfs:/FileStore/tables/stationData.csv], PartitionFilters: [], PushedFilters: [IsNotNull(station_id)], ReadSchema: struct<station_id:int,dockcount:int>\n\n\n"
     ]
    }
   ],
   "source": [
    "final_count_df.show()\n",
    "final_count_df.explain()\n"
   ]
  },
  {
   "cell_type": "code",
   "execution_count": 0,
   "metadata": {
    "application/vnd.databricks.v1+cell": {
     "cellMetadata": {},
     "inputWidgets": {},
     "nuid": "ff88d83c-945b-4b78-8156-edf9f6aef62e",
     "showTitle": false,
     "title": ""
    }
   },
   "outputs": [],
   "source": []
  }
 ],
 "metadata": {
  "application/vnd.databricks.v1+notebook": {
   "dashboards": [],
   "environmentMetadata": null,
   "language": "python",
   "notebookMetadata": {
    "pythonIndentUnit": 4
   },
   "notebookName": "QNC_live-coding_3_spark-sql-dsl",
   "widgets": {}
  },
  "language_info": {
   "name": "python"
  }
 },
 "nbformat": 4,
 "nbformat_minor": 0
}
