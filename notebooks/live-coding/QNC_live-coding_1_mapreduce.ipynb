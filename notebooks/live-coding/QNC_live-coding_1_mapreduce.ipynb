{
 "cells": [
  {
   "cell_type": "markdown",
   "metadata": {
    "application/vnd.databricks.v1+cell": {
     "cellMetadata": {},
     "inputWidgets": {},
     "nuid": "2d9156fc-b9fa-42d8-971e-b5eb9ff6fa14",
     "showTitle": false,
     "title": ""
    }
   },
   "source": [
    "## <font color=\"purple\"> Les opérations map et reduce </font>"
   ]
  },
  {
   "cell_type": "markdown",
   "metadata": {
    "application/vnd.databricks.v1+cell": {
     "cellMetadata": {},
     "inputWidgets": {},
     "nuid": "ea23f70e-9cc3-44d9-a180-53026daa63bf",
     "showTitle": false,
     "title": ""
    }
   },
   "source": [
    "Disposant de la liste suivante, proposer 3 syntaxes pour calculer la liste des carrés de ses éléments :"
   ]
  },
  {
   "cell_type": "code",
   "execution_count": 0,
   "metadata": {
    "application/vnd.databricks.v1+cell": {
     "cellMetadata": {
      "byteLimit": 2048000,
      "rowLimit": 10000
     },
     "inputWidgets": {},
     "nuid": "7106f135-5a38-4610-b8ba-6087d0aca395",
     "showTitle": false,
     "title": ""
    }
   },
   "outputs": [],
   "source": [
    "a = [1, 4, 74, 2]"
   ]
  },
  {
   "cell_type": "code",
   "execution_count": 0,
   "metadata": {
    "application/vnd.databricks.v1+cell": {
     "cellMetadata": {
      "byteLimit": 2048000,
      "rowLimit": 10000
     },
     "inputWidgets": {},
     "nuid": "61ba4975-5834-464b-9ec5-234705c8f066",
     "showTitle": false,
     "title": ""
    }
   },
   "outputs": [
    {
     "output_type": "stream",
     "name": "stdout",
     "output_type": "stream",
     "text": [
      "[1, 16, 5476, 4]\n"
     ]
    }
   ],
   "source": [
    "b = []\n",
    "for number in a:\n",
    "    b.append(number ** 2)\n",
    "print(b)"
   ]
  },
  {
   "cell_type": "code",
   "execution_count": 0,
   "metadata": {
    "application/vnd.databricks.v1+cell": {
     "cellMetadata": {
      "byteLimit": 2048000,
      "rowLimit": 10000
     },
     "inputWidgets": {},
     "nuid": "8f2f9afd-6b42-49f1-b303-a010da343048",
     "showTitle": false,
     "title": ""
    }
   },
   "outputs": [
    {
     "output_type": "stream",
     "name": "stdout",
     "output_type": "stream",
     "text": [
      "[1, 16, 5476, 4]\n"
     ]
    }
   ],
   "source": [
    "b = [number ** 2 for number in a]\n",
    "print(b)"
   ]
  },
  {
   "cell_type": "code",
   "execution_count": 0,
   "metadata": {
    "application/vnd.databricks.v1+cell": {
     "cellMetadata": {
      "byteLimit": 2048000,
      "rowLimit": 10000
     },
     "inputWidgets": {},
     "nuid": "e07b1315-6f33-4a67-ac15-e0f1c736154e",
     "showTitle": false,
     "title": ""
    }
   },
   "outputs": [
    {
     "output_type": "stream",
     "name": "stdout",
     "output_type": "stream",
     "text": [
      "[1, 16, 5476, 4]\n"
     ]
    }
   ],
   "source": [
    "def f(x):\n",
    "    return x ** 2\n",
    "\n",
    "b = list(map(f, a))\n",
    "\n",
    "print(b)"
   ]
  },
  {
   "cell_type": "code",
   "execution_count": 0,
   "metadata": {
    "application/vnd.databricks.v1+cell": {
     "cellMetadata": {},
     "inputWidgets": {},
     "nuid": "02863f08-6083-4daa-8708-9227812ecc6c",
     "showTitle": false,
     "title": ""
    }
   },
   "outputs": [],
   "source": [
    "map(lambda x: x**2, a)"
   ]
  },
  {
   "cell_type": "markdown",
   "metadata": {
    "application/vnd.databricks.v1+cell": {
     "cellMetadata": {},
     "inputWidgets": {},
     "nuid": "9367ee59-0612-413e-940b-6c254a8c3431",
     "showTitle": false,
     "title": ""
    }
   },
   "source": [
    "On souhaite désormais ajouter récursivement les éléments de cette nouvelle liste. Réaliser cette opération à l'aide de la fonction reduce de functools."
   ]
  },
  {
   "cell_type": "code",
   "execution_count": 0,
   "metadata": {
    "application/vnd.databricks.v1+cell": {
     "cellMetadata": {
      "byteLimit": 2048000,
      "rowLimit": 10000
     },
     "inputWidgets": {},
     "nuid": "b654ace3-67a3-45d3-a9c6-f9a00f26056f",
     "showTitle": false,
     "title": ""
    }
   },
   "outputs": [
    {
     "output_type": "stream",
     "name": "stdout",
     "output_type": "stream",
     "text": [
      "5497\n"
     ]
    }
   ],
   "source": [
    "from functools import reduce\n",
    "\n",
    "def g(x, y):\n",
    "    return x + y\n",
    "\n",
    "c = reduce(g, b)\n",
    "print(c)"
   ]
  },
  {
   "cell_type": "markdown",
   "metadata": {
    "application/vnd.databricks.v1+cell": {
     "cellMetadata": {},
     "inputWidgets": {},
     "nuid": "41360c3e-8402-4cda-bd0c-db14e5e3e94d",
     "showTitle": false,
     "title": ""
    }
   },
   "source": [
    "map et reduce sont des opérateurs génériques et leur combinaison permet donc de modéliser énormément de problèmes."
   ]
  },
  {
   "cell_type": "markdown",
   "metadata": {
    "application/vnd.databricks.v1+cell": {
     "cellMetadata": {},
     "inputWidgets": {},
     "nuid": "8abf4f21-f16f-45de-98b5-a4946a52698a",
     "showTitle": false,
     "title": ""
    }
   },
   "source": [
    "Recette de MapReduce :\n",
    "\n",
    "1. L'ensemble des données à traiter est découpé en plusieurs lots ou sous-ensembles.\n",
    "\n",
    "2. Dans une première étape, l'étape MAP, l'opérationmap, spécifiée pour notre problème, est appliquée à chaque lot. Cette opération transforme la paire(clé, valeur)représentant le lot en une liste de nouvelles paires(clé, valeur)constituant ainsi des résultats intermédiaires du traitement à effectuer sur les données complètes.\n",
    "\n",
    "3. Avant d'être envoyés à l'étape REDUCE, les résultats intermédiaires sont regroupés et triés par clé. C'est l'étape de SHUFFLE and SORT.\n",
    "\n",
    "4. Enfin, l'étape REDUCE consiste à appliquer l'opération reduce, spécifiée pour notre problème, à chaque clé. Elle agrège tous les résultats intermédiaires associés à une même clé et renvoie donc pour chaque clé une valeur unique.\n",
    "\n",
    "![Schéma MapReduce](../../docs/images/schema_mapreduce.jpeg)"
   ]
  },
  {
   "cell_type": "markdown",
   "metadata": {
    "application/vnd.databricks.v1+cell": {
     "cellMetadata": {},
     "inputWidgets": {},
     "nuid": "32ff6c8f-fa8a-4d55-9bc8-a4b1b676edc2",
     "showTitle": false,
     "title": ""
    }
   },
   "source": [
    "## Word Count"
   ]
  },
  {
   "cell_type": "markdown",
   "metadata": {
    "application/vnd.databricks.v1+cell": {
     "cellMetadata": {},
     "inputWidgets": {},
     "nuid": "1c8aeeeb-401b-443b-9c85-4ccbd1d89d84",
     "showTitle": false,
     "title": ""
    }
   },
   "source": [
    "defaultdict(int) est une structure de données fournie par le module collections de Python. Il s'agit d'une sous-classe de dictionnaire qui permet de définir une valeur par défaut pour les clés qui n'existent pas.\n",
    "Il est possible de lui préciser un type de données par défaut."
   ]
  },
  {
   "cell_type": "code",
   "execution_count": 0,
   "metadata": {
    "application/vnd.databricks.v1+cell": {
     "cellMetadata": {
      "byteLimit": 2048000,
      "rowLimit": 10000
     },
     "inputWidgets": {},
     "nuid": "ca98b474-1507-499b-b273-c58c19ce90b5",
     "showTitle": false,
     "title": ""
    }
   },
   "outputs": [],
   "source": [
    "from collections import defaultdict"
   ]
  },
  {
   "cell_type": "markdown",
   "metadata": {
    "application/vnd.databricks.v1+cell": {
     "cellMetadata": {},
     "inputWidgets": {},
     "nuid": "b48cc200-ce64-4918-b603-de5c60428521",
     "showTitle": false,
     "title": ""
    }
   },
   "source": [
    "En utilisant int comme type de données par défaut (defaultdict(int)), si une clé n'existe pas dans le dictionnaire, elle sera automatiquement initialisée avec la valeur 0."
   ]
  },
  {
   "cell_type": "markdown",
   "metadata": {
    "application/vnd.databricks.v1+cell": {
     "cellMetadata": {},
     "inputWidgets": {},
     "nuid": "84f73ee9-65de-4ea6-8a1c-4cffd846f2bc",
     "showTitle": false,
     "title": ""
    }
   },
   "source": [
    "Ecrire une fonction Python word_count permettant de renvoyer le defaultdict des paires mots, comptages d'un texte passé en argument. On pourra considérer que les mots sont toujours séparés par des espaces et utiliser la méthode split() pour séparer le texte en mots."
   ]
  },
  {
   "cell_type": "code",
   "execution_count": 0,
   "metadata": {
    "application/vnd.databricks.v1+cell": {
     "cellMetadata": {
      "byteLimit": 2048000,
      "rowLimit": 10000
     },
     "inputWidgets": {},
     "nuid": "1ae88b1c-8554-4424-ae76-211732d3b732",
     "showTitle": false,
     "title": ""
    }
   },
   "outputs": [],
   "source": [
    "def word_count(text):\n",
    "    counts = defaultdict(int)\n",
    "    for word in text.split():\n",
    "        counts[word.lower()] += 1\n",
    "    return counts"
   ]
  },
  {
   "cell_type": "code",
   "execution_count": 0,
   "metadata": {
    "application/vnd.databricks.v1+cell": {
     "cellMetadata": {
      "byteLimit": 2048000,
      "rowLimit": 10000
     },
     "inputWidgets": {},
     "nuid": "a7332de9-03ed-4157-bcdf-2a2d89ac3cf5",
     "showTitle": false,
     "title": ""
    }
   },
   "outputs": [
    {
     "output_type": "stream",
     "name": "stdout",
     "output_type": "stream",
     "text": [
      "Out[10]: defaultdict(int,\n            {'ceci': 1, 'est': 1, 'un': 2, 'texte': 1, 'et': 1, 'test': 1})"
     ]
    }
   ],
   "source": [
    "word_count(\"ceci est un texte et un test\")"
   ]
  },
  {
   "cell_type": "markdown",
   "metadata": {
    "application/vnd.databricks.v1+cell": {
     "cellMetadata": {},
     "inputWidgets": {},
     "nuid": "bf8dac1f-506c-4f15-a671-a59e732fbb8e",
     "showTitle": false,
     "title": ""
    }
   },
   "source": [
    "Dans la suite, nous allons mettre en oeuvre le principe de MapReduce sur les paroles d'une chanson."
   ]
  },
  {
   "cell_type": "markdown",
   "metadata": {
    "application/vnd.databricks.v1+cell": {
     "cellMetadata": {},
     "inputWidgets": {},
     "nuid": "9b01018c-acf2-448c-93ff-4dc2ca75c6f8",
     "showTitle": false,
     "title": ""
    }
   },
   "source": [
    "Nous allons supposer que nos données d'entrée ont été découpées en différents fragments et qu'une opération de simplification a été appliquée sur chaque fragment pour supprimer les caractères de ponctuation, transformer chaque mot en son singulier (\"nos\" devient \"notre\") et ne garder que les mots de plus de 3 caractères."
   ]
  },
  {
   "cell_type": "markdown",
   "metadata": {
    "application/vnd.databricks.v1+cell": {
     "cellMetadata": {},
     "inputWidgets": {},
     "nuid": "7a9959e6-4369-4a53-afe8-3d08f1746d89",
     "showTitle": false,
     "title": ""
    }
   },
   "source": [
    "Voici ces morceaux :"
   ]
  },
  {
   "cell_type": "code",
   "execution_count": 0,
   "metadata": {
    "application/vnd.databricks.v1+cell": {
     "cellMetadata": {
      "byteLimit": 2048000,
      "rowLimit": 10000
     },
     "inputWidgets": {},
     "nuid": "d4f4472c-94cd-476e-b1c8-0e6f981fdd4a",
     "showTitle": false,
     "title": ""
    }
   },
   "outputs": [],
   "source": [
    "D1 = {\"./lot1.txt\" : \"jour lève notre grisaille\"}\n",
    "D2 = {\"./lot2.txt\" : \"trottoir notre ruelle notre tour\"}\n",
    "D3 = {\"./lot3.txt\" : \"jour lève notre envie vous\"}\n",
    "D4 = {\"./lot4.txt\" : \"faire comprendre tous notre tour\"}"
   ]
  },
  {
   "cell_type": "markdown",
   "metadata": {
    "application/vnd.databricks.v1+cell": {
     "cellMetadata": {},
     "inputWidgets": {},
     "nuid": "751eb951-34bb-4b8d-9d00-9249521dbe10",
     "showTitle": false,
     "title": ""
    }
   },
   "source": [
    "Ecrire une fonction map s'appliquant sur une paire clef, valeur qui renvoie le comptage des mots dans la valeur (la clef ne sera pas utilisée, ce n'est pas grave).\n",
    "Par exemple, son appel sur la clef et la valeur de D1 renverra [('jour', 1), ('lève', 1), ('notre', 1), ('grisaille', 1)]."
   ]
  },
  {
   "cell_type": "code",
   "execution_count": 0,
   "metadata": {
    "application/vnd.databricks.v1+cell": {
     "cellMetadata": {
      "byteLimit": 2048000,
      "rowLimit": 10000
     },
     "inputWidgets": {},
     "nuid": "3da21bf4-b721-47db-bd1d-b78dde80598b",
     "showTitle": false,
     "title": ""
    }
   },
   "outputs": [],
   "source": [
    "def map_(key, value):\n",
    "    intermediate = []\n",
    "    for word in value.split():\n",
    "        intermediate.append((word, 1))\n",
    "    return intermediate"
   ]
  },
  {
   "cell_type": "code",
   "execution_count": 0,
   "metadata": {
    "application/vnd.databricks.v1+cell": {
     "cellMetadata": {
      "byteLimit": 2048000,
      "rowLimit": 10000
     },
     "inputWidgets": {},
     "nuid": "8237eb41-edcd-4743-bf9b-317c535b0e90",
     "showTitle": false,
     "title": ""
    }
   },
   "outputs": [
    {
     "output_type": "stream",
     "name": "stdout",
     "output_type": "stream",
     "text": [
      "[('jour', 1), ('lève', 1), ('notre', 1), ('grisaille', 1)]\n"
     ]
    }
   ],
   "source": [
    "key, value = next(iter(D1.items()))\n",
    "print(map_(key, value))"
   ]
  },
  {
   "cell_type": "markdown",
   "metadata": {
    "application/vnd.databricks.v1+cell": {
     "cellMetadata": {},
     "inputWidgets": {},
     "nuid": "afdff90c-81f5-420e-bc46-246dc6a2437b",
     "showTitle": false,
     "title": ""
    }
   },
   "source": [
    "![Image map](../../docs/images/map.jpeg)"
   ]
  },
  {
   "cell_type": "markdown",
   "metadata": {
    "application/vnd.databricks.v1+cell": {
     "cellMetadata": {},
     "inputWidgets": {},
     "nuid": "74a7baf1-8fe0-4536-acc8-10dcc40a460f",
     "showTitle": false,
     "title": ""
    }
   },
   "source": [
    "A ce stade, nous allons considérer que nous sommes un peu magicien et que nous sommes capables de regrouper et de trier, par clé commune, les résultats intermédiaires fournis par l'étape MAP. Cela correspond à l'étape SHUFFLE and SORT. Dans la pratique, cette étape est entièrement gérée par le framework d'exécution de MapReduce, de manière distribuée."
   ]
  },
  {
   "cell_type": "markdown",
   "metadata": {
    "application/vnd.databricks.v1+cell": {
     "cellMetadata": {},
     "inputWidgets": {},
     "nuid": "79100ad2-a2f8-46fe-8f1e-eb93498e2414",
     "showTitle": false,
     "title": ""
    }
   },
   "source": [
    "![Shuffle and sort](../../docs/images/shuffle_sort.jpeg)"
   ]
  },
  {
   "cell_type": "markdown",
   "metadata": {
    "application/vnd.databricks.v1+cell": {
     "cellMetadata": {},
     "inputWidgets": {},
     "nuid": "54932903-9f70-4b4c-998f-9f39c81f88c9",
     "showTitle": false,
     "title": ""
    }
   },
   "source": [
    "Ecrire une fonction reduce prenant en arguments une clef et une liste de valeurs et retournant un tuple formé de la clef et de la somme des valeurs de la liste. Par exemple, son appel sur (\"notre\", [1, 1, 1, 1, 1]) renverra 5."
   ]
  },
  {
   "cell_type": "code",
   "execution_count": 0,
   "metadata": {
    "application/vnd.databricks.v1+cell": {
     "cellMetadata": {
      "byteLimit": 2048000,
      "rowLimit": 10000
     },
     "inputWidgets": {},
     "nuid": "37cb41b3-c482-4862-8296-a84acf426959",
     "showTitle": false,
     "title": ""
    }
   },
   "outputs": [],
   "source": [
    "def reduce_(key, values):\n",
    "    result = 0\n",
    "    for c in values:\n",
    "        result += c\n",
    "    return (key, result)"
   ]
  },
  {
   "cell_type": "code",
   "execution_count": 0,
   "metadata": {
    "application/vnd.databricks.v1+cell": {
     "cellMetadata": {
      "byteLimit": 2048000,
      "rowLimit": 10000
     },
     "inputWidgets": {},
     "nuid": "a773f0e1-e369-463a-ae16-4aba765f31de",
     "showTitle": false,
     "title": ""
    }
   },
   "outputs": [
    {
     "output_type": "stream",
     "name": "stdout",
     "output_type": "stream",
     "text": [
      "('notre', 5)\n"
     ]
    }
   ],
   "source": [
    "print(reduce_(\"notre\", [1, 1, 1, 1, 1]))"
   ]
  },
  {
   "cell_type": "markdown",
   "metadata": {
    "application/vnd.databricks.v1+cell": {
     "cellMetadata": {},
     "inputWidgets": {},
     "nuid": "83ad8ecd-73d5-4f9f-9664-344effc65bee",
     "showTitle": false,
     "title": ""
    }
   },
   "source": [
    "Et voilà, nous avons notre comptage de mots !"
   ]
  },
  {
   "cell_type": "markdown",
   "metadata": {
    "application/vnd.databricks.v1+cell": {
     "cellMetadata": {},
     "inputWidgets": {},
     "nuid": "c8d3bed4-3112-403d-ba85-b78d4067e36d",
     "showTitle": false,
     "title": ""
    }
   },
   "source": [
    "![Schéma global](../../docs/images/global.jpeg)"
   ]
  },
  {
   "cell_type": "markdown",
   "metadata": {
    "application/vnd.databricks.v1+cell": {
     "cellMetadata": {},
     "inputWidgets": {},
     "nuid": "8a3af33b-ae15-42b4-bc3e-17901860723b",
     "showTitle": false,
     "title": ""
    }
   },
   "source": [
    "En résumé, MapReduce c'est :\n",
    "\n",
    "- La généralisation du paradigme de conception d'algorithmes diviser pour régner au cadre distribué.\n",
    "\n",
    "- Un modèle de programmation reposant sur la combinaison de deux fonctions simples,mapetreduce, inspirées de la programmation fonctionnelle.\n",
    "\n",
    "- Un framework d'exécution prenant en charge le deploiement et la distribution des calculs sur un cluster.\n",
    "\n",
    "Le rôle des developpeurs d'applications distribuées, c'est donc de penser en MapReduce :\n",
    "\n",
    "- Choisir une manière de découper les données afin que l'opération MAP soit parallélisable.\n",
    "\n",
    "- Choisir la clé à utiliser pour le problème ciblé.\n",
    "\n",
    "- Écrire le code de la fonction pour l'opération MAP.\n",
    "\n",
    "- Écrire le code de la fonction pour l'opération REDUCE."
   ]
  },
  {
   "cell_type": "markdown",
   "metadata": {
    "application/vnd.databricks.v1+cell": {
     "cellMetadata": {},
     "inputWidgets": {},
     "nuid": "48e28c7c-1c21-477e-86f9-482a987fd254",
     "showTitle": false,
     "title": ""
    }
   },
   "source": []
  }
 ],
 "metadata": {
  "application/vnd.databricks.v1+notebook": {
   "dashboards": [],
   "environmentMetadata": null,
   "language": "python",
   "notebookMetadata": {
    "pythonIndentUnit": 4
   },
   "notebookName": "QNC_live-coding_1_mapreduce",
   "widgets": {}
  },
  "kernelspec": {
   "display_name": "test-yOZBwoax-py3.11",
   "language": "python",
   "name": "python3"
  },
  "language_info": {
   "codemirror_mode": {
    "name": "ipython",
    "version": 3
   },
   "file_extension": ".py",
   "mimetype": "text/x-python",
   "name": "python",
   "nbconvert_exporter": "python",
   "pygments_lexer": "ipython3",
   "version": "3.11.4"
  }
 },
 "nbformat": 4,
 "nbformat_minor": 0
}
