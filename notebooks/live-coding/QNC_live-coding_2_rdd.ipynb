{
 "cells": [
  {
   "cell_type": "markdown",
   "metadata": {
    "application/vnd.databricks.v1+cell": {
     "cellMetadata": {},
     "inputWidgets": {},
     "nuid": "b157cdc5-400e-4875-bf84-6a5e40326a49",
     "showTitle": false,
     "title": ""
    }
   },
   "source": [
    "## Partie 1 : Word count dans un fichier txt."
   ]
  },
  {
   "cell_type": "markdown",
   "metadata": {
    "application/vnd.databricks.v1+cell": {
     "cellMetadata": {},
     "inputWidgets": {},
     "nuid": "c3ed31db-3bb4-4180-9e54-7152af4c98ff",
     "showTitle": false,
     "title": ""
    }
   },
   "source": [
    "Uploader le fichier mobyDick.txt (Create > Table), puis lancer la commande suivante afin de vérifier qu'il est bien visible."
   ]
  },
  {
   "cell_type": "code",
   "execution_count": 0,
   "metadata": {
    "application/vnd.databricks.v1+cell": {
     "cellMetadata": {
      "byteLimit": 2048000,
      "rowLimit": 10000
     },
     "inputWidgets": {},
     "nuid": "116b924a-83ce-42f7-a6c7-59de3396d731",
     "showTitle": false,
     "title": ""
    }
   },
   "outputs": [
    {
     "output_type": "display_data",
     "data": {
      "text/html": [
       "<style scoped>\n",
       "  .table-result-container {\n",
       "    max-height: 300px;\n",
       "    overflow: auto;\n",
       "  }\n",
       "  table, th, td {\n",
       "    border: 1px solid black;\n",
       "    border-collapse: collapse;\n",
       "  }\n",
       "  th, td {\n",
       "    padding: 5px;\n",
       "  }\n",
       "  th {\n",
       "    text-align: left;\n",
       "  }\n",
       "</style><div class='table-result-container'><table class='table-result'><thead style='background-color: white'><tr><th>path</th><th>name</th><th>size</th><th>modificationTime</th></tr></thead><tbody><tr><td>dbfs:/FileStore/tables/CIS_CIP_bdpm27_9.txt</td><td>CIS_CIP_bdpm27_9.txt</td><td>4064764</td><td>1708094260000</td></tr><tr><td>dbfs:/FileStore/tables/CIS_CIP_bdpm28_9.txt</td><td>CIS_CIP_bdpm28_9.txt</td><td>4063724</td><td>1708094260000</td></tr><tr><td>dbfs:/FileStore/tables/CIS_CIP_bdpm29_9.txt</td><td>CIS_CIP_bdpm29_9.txt</td><td>4063172</td><td>1708094261000</td></tr><tr><td>dbfs:/FileStore/tables/CIS_CIP_bdpm30_9.txt</td><td>CIS_CIP_bdpm30_9.txt</td><td>4060408</td><td>1708094261000</td></tr><tr><td>dbfs:/FileStore/tables/QNC__1_pyspark_ml.ipynb</td><td>QNC__1_pyspark_ml.ipynb</td><td>185583</td><td>1710766051000</td></tr><tr><td>dbfs:/FileStore/tables/QNC_enonce_1_mapreduce.ipynb</td><td>QNC_enonce_1_mapreduce.ipynb</td><td>8753</td><td>1710921015000</td></tr><tr><td>dbfs:/FileStore/tables/SPN_products-1.csv</td><td>SPN_products-1.csv</td><td>19948215</td><td>1712303028000</td></tr><tr><td>dbfs:/FileStore/tables/SPN_products.csv</td><td>SPN_products.csv</td><td>19948215</td><td>1711970811000</td></tr><tr><td>dbfs:/FileStore/tables/apricot/</td><td>apricot/</td><td>0</td><td>0</td></tr><tr><td>dbfs:/FileStore/tables/cancer_reg-1.csv</td><td>cancer_reg-1.csv</td><td>734375</td><td>1712309362000</td></tr><tr><td>dbfs:/FileStore/tables/cancer_reg.csv</td><td>cancer_reg.csv</td><td>734375</td><td>1710769923000</td></tr><tr><td>dbfs:/FileStore/tables/checkpoints/</td><td>checkpoints/</td><td>0</td><td>0</td></tr><tr><td>dbfs:/FileStore/tables/cis/</td><td>cis/</td><td>0</td><td>0</td></tr><tr><td>dbfs:/FileStore/tables/events/</td><td>events/</td><td>0</td><td>0</td></tr><tr><td>dbfs:/FileStore/tables/fruits/</td><td>fruits/</td><td>0</td><td>0</td></tr><tr><td>dbfs:/FileStore/tables/mobyDick-1.txt</td><td>mobyDick-1.txt</td><td>1292064</td><td>1712571249000</td></tr><tr><td>dbfs:/FileStore/tables/mobyDick.txt</td><td>mobyDick.txt</td><td>1292064</td><td>1710697084000</td></tr><tr><td>dbfs:/FileStore/tables/movie_ratings.txt</td><td>movie_ratings.txt</td><td>32363</td><td>1712326187000</td></tr><tr><td>dbfs:/FileStore/tables/movie_ratings_txt.txt</td><td>movie_ratings_txt.txt</td><td>32363</td><td>1712269761000</td></tr><tr><td>dbfs:/FileStore/tables/sample_multiclass_classification_data-1.txt</td><td>sample_multiclass_classification_data-1.txt</td><td>6953</td><td>1712318290000</td></tr><tr><td>dbfs:/FileStore/tables/sample_multiclass_classification_data.txt</td><td>sample_multiclass_classification_data.txt</td><td>6953</td><td>1712263954000</td></tr><tr><td>dbfs:/FileStore/tables/stationData-1.csv</td><td>stationData-1.csv</td><td>5201</td><td>1712647052000</td></tr><tr><td>dbfs:/FileStore/tables/stationData.csv</td><td>stationData.csv</td><td>5201</td><td>1708008956000</td></tr><tr><td>dbfs:/FileStore/tables/streaming_events/</td><td>streaming_events/</td><td>0</td><td>0</td></tr><tr><td>dbfs:/FileStore/tables/test_events/</td><td>test_events/</td><td>0</td><td>0</td></tr><tr><td>dbfs:/FileStore/tables/tripData-1.csv</td><td>tripData-1.csv</td><td>42658488</td><td>1712647089000</td></tr><tr><td>dbfs:/FileStore/tables/tripData.csv</td><td>tripData.csv</td><td>42658488</td><td>1708009081000</td></tr></tbody></table></div>"
      ]
     },
     "metadata": {
      "application/vnd.databricks.v1+output": {
       "addedWidgets": {},
       "aggData": [],
       "aggError": "",
       "aggOverflow": false,
       "aggSchema": [],
       "aggSeriesLimitReached": false,
       "aggType": "",
       "arguments": {},
       "columnCustomDisplayInfos": {},
       "data": [
        [
         "dbfs:/FileStore/tables/CIS_CIP_bdpm27_9.txt",
         "CIS_CIP_bdpm27_9.txt",
         4064764,
         1708094260000
        ],
        [
         "dbfs:/FileStore/tables/CIS_CIP_bdpm28_9.txt",
         "CIS_CIP_bdpm28_9.txt",
         4063724,
         1708094260000
        ],
        [
         "dbfs:/FileStore/tables/CIS_CIP_bdpm29_9.txt",
         "CIS_CIP_bdpm29_9.txt",
         4063172,
         1708094261000
        ],
        [
         "dbfs:/FileStore/tables/CIS_CIP_bdpm30_9.txt",
         "CIS_CIP_bdpm30_9.txt",
         4060408,
         1708094261000
        ],
        [
         "dbfs:/FileStore/tables/QNC__1_pyspark_ml.ipynb",
         "QNC__1_pyspark_ml.ipynb",
         185583,
         1710766051000
        ],
        [
         "dbfs:/FileStore/tables/QNC_enonce_1_mapreduce.ipynb",
         "QNC_enonce_1_mapreduce.ipynb",
         8753,
         1710921015000
        ],
        [
         "dbfs:/FileStore/tables/SPN_products-1.csv",
         "SPN_products-1.csv",
         19948215,
         1712303028000
        ],
        [
         "dbfs:/FileStore/tables/SPN_products.csv",
         "SPN_products.csv",
         19948215,
         1711970811000
        ],
        [
         "dbfs:/FileStore/tables/apricot/",
         "apricot/",
         0,
         0
        ],
        [
         "dbfs:/FileStore/tables/cancer_reg-1.csv",
         "cancer_reg-1.csv",
         734375,
         1712309362000
        ],
        [
         "dbfs:/FileStore/tables/cancer_reg.csv",
         "cancer_reg.csv",
         734375,
         1710769923000
        ],
        [
         "dbfs:/FileStore/tables/checkpoints/",
         "checkpoints/",
         0,
         0
        ],
        [
         "dbfs:/FileStore/tables/cis/",
         "cis/",
         0,
         0
        ],
        [
         "dbfs:/FileStore/tables/events/",
         "events/",
         0,
         0
        ],
        [
         "dbfs:/FileStore/tables/fruits/",
         "fruits/",
         0,
         0
        ],
        [
         "dbfs:/FileStore/tables/mobyDick-1.txt",
         "mobyDick-1.txt",
         1292064,
         1712571249000
        ],
        [
         "dbfs:/FileStore/tables/mobyDick.txt",
         "mobyDick.txt",
         1292064,
         1710697084000
        ],
        [
         "dbfs:/FileStore/tables/movie_ratings.txt",
         "movie_ratings.txt",
         32363,
         1712326187000
        ],
        [
         "dbfs:/FileStore/tables/movie_ratings_txt.txt",
         "movie_ratings_txt.txt",
         32363,
         1712269761000
        ],
        [
         "dbfs:/FileStore/tables/sample_multiclass_classification_data-1.txt",
         "sample_multiclass_classification_data-1.txt",
         6953,
         1712318290000
        ],
        [
         "dbfs:/FileStore/tables/sample_multiclass_classification_data.txt",
         "sample_multiclass_classification_data.txt",
         6953,
         1712263954000
        ],
        [
         "dbfs:/FileStore/tables/stationData-1.csv",
         "stationData-1.csv",
         5201,
         1712647052000
        ],
        [
         "dbfs:/FileStore/tables/stationData.csv",
         "stationData.csv",
         5201,
         1708008956000
        ],
        [
         "dbfs:/FileStore/tables/streaming_events/",
         "streaming_events/",
         0,
         0
        ],
        [
         "dbfs:/FileStore/tables/test_events/",
         "test_events/",
         0,
         0
        ],
        [
         "dbfs:/FileStore/tables/tripData-1.csv",
         "tripData-1.csv",
         42658488,
         1712647089000
        ],
        [
         "dbfs:/FileStore/tables/tripData.csv",
         "tripData.csv",
         42658488,
         1708009081000
        ]
       ],
       "datasetInfos": [],
       "dbfsResultPath": null,
       "isJsonSchema": true,
       "metadata": {
        "isDbfsCommandResult": false
       },
       "overflow": false,
       "plotOptions": {
        "customPlotOptions": {},
        "displayType": "table",
        "pivotAggregation": null,
        "pivotColumns": null,
        "xColumns": null,
        "yColumns": null
       },
       "removedWidgets": [],
       "schema": [
        {
         "metadata": "{}",
         "name": "path",
         "type": "\"string\""
        },
        {
         "metadata": "{}",
         "name": "name",
         "type": "\"string\""
        },
        {
         "metadata": "{}",
         "name": "size",
         "type": "\"long\""
        },
        {
         "metadata": "{}",
         "name": "modificationTime",
         "type": "\"long\""
        }
       ],
       "type": "table"
      }
     },
     "output_type": "display_data"
    }
   ],
   "source": [
    "%fs ls /FileStore/tables"
   ]
  },
  {
   "cell_type": "markdown",
   "metadata": {
    "application/vnd.databricks.v1+cell": {
     "cellMetadata": {},
     "inputWidgets": {},
     "nuid": "ade5c254-1007-4395-b5d3-477ac064c47e",
     "showTitle": false,
     "title": ""
    }
   },
   "source": [
    "Charger le fichier mobyDick.txt (précédemment uploadé) dans un RDD."
   ]
  },
  {
   "cell_type": "code",
   "execution_count": 0,
   "metadata": {
    "application/vnd.databricks.v1+cell": {
     "cellMetadata": {
      "byteLimit": 2048000,
      "rowLimit": 10000
     },
     "inputWidgets": {},
     "nuid": "0de83c32-b345-4bf3-94b3-7326179385ea",
     "showTitle": false,
     "title": ""
    }
   },
   "outputs": [],
   "source": [
    "moby_rdd = sc.textFile(\"/FileStore/tables/mobyDick.txt\")"
   ]
  },
  {
   "cell_type": "code",
   "execution_count": 0,
   "metadata": {
    "application/vnd.databricks.v1+cell": {
     "cellMetadata": {
      "byteLimit": 2048000,
      "rowLimit": 10000
     },
     "inputWidgets": {},
     "nuid": "5716d51b-a574-4e92-a58a-e994cf1e878e",
     "showTitle": false,
     "title": ""
    }
   },
   "outputs": [
    {
     "output_type": "stream",
     "name": "stdout",
     "output_type": "stream",
     "text": [
      "Out[3]: ['',\n 'MOBY-DICK;',\n '',\n 'or, THE WHALE.',\n '',\n 'By Herman Melville',\n '',\n '',\n '',\n 'CONTENTS',\n '',\n 'ETYMOLOGY.',\n '',\n 'EXTRACTS (Supplied by a Sub-Sub-Librarian).',\n '',\n 'CHAPTER 1. Loomings.',\n '',\n 'CHAPTER 2. The Carpet-Bag.',\n '',\n 'CHAPTER 3. The Spouter-Inn.',\n '',\n 'CHAPTER 4. The Counterpane.',\n '',\n 'CHAPTER 5. Breakfast.',\n '',\n 'CHAPTER 6. The Street.',\n '',\n 'CHAPTER 7. The Chapel.',\n '',\n 'CHAPTER 8. The Pulpit.',\n '',\n 'CHAPTER 9. The Sermon.',\n '',\n 'CHAPTER 10. A Bosom Friend.',\n '',\n 'CHAPTER 11. Nightgown.',\n '',\n 'CHAPTER 12. Biographical.',\n '',\n 'CHAPTER 13. Wheelbarrow.',\n '',\n 'CHAPTER 14. Nantucket.',\n '',\n 'CHAPTER 15. Chowder.',\n '',\n 'CHAPTER 16. The Ship.',\n '',\n 'CHAPTER 17. The Ramadan.',\n '',\n 'CHAPTER 18. His Mark.',\n '',\n 'CHAPTER 19. The Prophet.',\n '',\n 'CHAPTER 20. All Astir.',\n '',\n 'CHAPTER 21. Going Aboard.',\n '',\n 'CHAPTER 22. Merry Christmas.',\n '',\n 'CHAPTER 23. The Lee Shore.',\n '',\n 'CHAPTER 24. The Advocate.',\n '',\n 'CHAPTER 25. Postscript.',\n '',\n 'CHAPTER 26. Knights and Squires.',\n '',\n 'CHAPTER 27. Knights and Squires.',\n '',\n 'CHAPTER 28. Ahab.',\n '',\n 'CHAPTER 29. Enter Ahab; to Him, Stubb.',\n '',\n 'CHAPTER 30. The Pipe.',\n '',\n 'CHAPTER 31. Queen Mab.',\n '',\n 'CHAPTER 32. Cetology.',\n '',\n 'CHAPTER 33. The Specksnyder.',\n '',\n 'CHAPTER 34. The Cabin-Table.',\n '',\n 'CHAPTER 35. The Mast-Head.',\n '',\n 'CHAPTER 36. The Quarter-Deck.',\n '',\n 'CHAPTER 37. Sunset.',\n '',\n 'CHAPTER 38. Dusk.',\n '',\n 'CHAPTER 39. First Night-Watch.',\n '',\n 'CHAPTER 40. Midnight, Forecastle.',\n '',\n 'CHAPTER 41. Moby Dick.',\n '',\n 'CHAPTER 42. The Whiteness of the Whale.',\n '',\n 'CHAPTER 43. Hark!',\n '',\n 'CHAPTER 44. The Chart.',\n '',\n 'CHAPTER 45. The Affidavit.',\n '',\n 'CHAPTER 46. Surmises.',\n '',\n 'CHAPTER 47. The Mat-Maker.',\n '',\n 'CHAPTER 48. The First Lowering.',\n '',\n 'CHAPTER 49. The Hyena.',\n '',\n 'CHAPTER 50. Ahabâ€™s Boat and Crew. Fedallah.',\n '',\n 'CHAPTER 51. The Spirit-Spout.',\n '',\n 'CHAPTER 52. The Albatross.',\n '',\n 'CHAPTER 53. The Gam.',\n '',\n 'CHAPTER 54. The Town-Hoâ€™s Story.',\n '',\n 'CHAPTER 55. Of the Monstrous Pictures of Whales.',\n '',\n 'CHAPTER 56. Of the Less Erroneous Pictures of Whales, and the True',\n 'Pictures of Whaling Scenes.',\n '',\n 'CHAPTER 57. Of Whales in Paint; in Teeth; in Wood; in Sheet-Iron; in',\n 'Stone; in Mountains; in Stars.',\n '',\n 'CHAPTER 58. Brit.',\n '',\n 'CHAPTER 59. Squid.',\n '',\n 'CHAPTER 60. The Line.',\n '',\n 'CHAPTER 61. Stubb Kills a Whale.',\n '',\n 'CHAPTER 62. The Dart.',\n '',\n 'CHAPTER 63. The Crotch.',\n '',\n 'CHAPTER 64. Stubbâ€™s Supper.',\n '',\n 'CHAPTER 65. The Whale as a Dish.',\n '',\n 'CHAPTER 66. The Shark Massacre.',\n '',\n 'CHAPTER 67. Cutting In.',\n '',\n 'CHAPTER 68. The Blanket.',\n '',\n 'CHAPTER 69. The Funeral.',\n '',\n 'CHAPTER 70. The Sphynx.',\n '',\n 'CHAPTER 71. The Jeroboamâ€™s Story.',\n '',\n 'CHAPTER 72. The Monkey-Rope.',\n '',\n 'CHAPTER 73. Stubb and Flask kill a Right Whale; and Then Have a Talk',\n 'over Him.',\n '',\n 'CHAPTER 74. The Sperm Whaleâ€™s Headâ€”Contrasted View.',\n '',\n 'CHAPTER 75. The Right Whaleâ€™s Headâ€”Contrasted View.',\n '',\n 'CHAPTER 76. The Battering-Ram.',\n '',\n 'CHAPTER 77. The Great Heidelburgh Tun.',\n '',\n 'CHAPTER 78. Cistern and Buckets.',\n '',\n 'CHAPTER 79. The Prairie.',\n '',\n 'CHAPTER 80. The Nut.',\n '',\n 'CHAPTER 81. The Pequod Meets The Virgin.',\n '',\n 'CHAPTER 82. The Honor and Glory of Whaling.',\n '',\n 'CHAPTER 83. Jonah Historically Regarded.',\n '',\n 'CHAPTER 84. Pitchpoling.',\n '',\n 'CHAPTER 85. The Fountain.',\n '',\n 'CHAPTER 86. The Tail.',\n '',\n 'CHAPTER 87. The Grand Armada.',\n '',\n 'CHAPTER 88. Schools and Schoolmasters.',\n '',\n 'CHAPTER 89. Fast-Fish and Loose-Fish.',\n '',\n 'CHAPTER 90. Heads or Tails.',\n '',\n 'CHAPTER 91. The Pequod Meets The Rose-Bud.',\n '',\n 'CHAPTER 92. Ambergris.',\n '',\n 'CHAPTER 93. The Castaway.',\n '',\n 'CHAPTER 94. A Squeeze of the Hand.',\n '',\n 'CHAPTER 95. The Cassock.',\n '',\n 'CHAPTER 96. The Try-Works.',\n '',\n 'CHAPTER 97. The Lamp.',\n '',\n 'CHAPTER 98. Stowing Down and Clearing Up.',\n '',\n 'CHAPTER 99. The Doubloon.',\n '',\n 'CHAPTER 100. Leg and Arm.',\n '',\n 'CHAPTER 101. The Decanter.',\n '',\n 'CHAPTER 102. A Bower in the Arsacides.',\n '',\n 'CHAPTER 103. Measurement of The Whaleâ€™s Skeleton.',\n '',\n 'CHAPTER 104. The Fossil Whale.',\n '',\n 'CHAPTER 105. Does the Whaleâ€™s Magnitude Diminish?â€”Will He Perish?',\n '',\n 'CHAPTER 106. Ahabâ€™s Leg.',\n '',\n 'CHAPTER 107. The Carpenter.',\n '',\n 'CHAPTER 108. Ahab and the Carpenter.',\n '',\n 'CHAPTER 109. Ahab and Starbuck in the Cabin.',\n '',\n 'CHAPTER 110. Queequeg in His Coffin.',\n '',\n 'CHAPTER 111. The Pacific.',\n '',\n 'CHAPTER 112. The Blacksmith.',\n '',\n 'CHAPTER 113. The Forge.',\n '',\n 'CHAPTER 114. The Gilder.',\n '',\n 'CHAPTER 115. The Pequod Meets The Bachelor.',\n '',\n 'CHAPTER 116. The Dying Whale.',\n '',\n 'CHAPTER 117. The Whale Watch.',\n '',\n 'CHAPTER 118. The Quadrant.',\n '',\n 'CHAPTER 119. The Candles.',\n '',\n 'CHAPTER 120. The Deck Towards the End of the First Night Watch.',\n '',\n 'CHAPTER 121. Midnight.â€”The Forecastle Bulwarks.',\n '',\n 'CHAPTER 122. Midnight Aloft.â€”Thunder and Lightning.',\n '',\n 'CHAPTER 123. The Musket.',\n '',\n 'CHAPTER 124. The Needle.',\n '',\n 'CHAPTER 125. The Log and Line.',\n '',\n 'CHAPTER 126. The Life-Buoy.',\n '',\n 'CHAPTER 127. The Deck.',\n '',\n 'CHAPTER 128. The Pequod Meets The Rachel.',\n '',\n 'CHAPTER 129. The Cabin.',\n '',\n 'CHAPTER 130. The Hat.',\n '',\n 'CHAPTER 131. The Pequod Meets The Delight.',\n '',\n 'CHAPTER 132. The Symphony.',\n '',\n 'CHAPTER 133. The Chaseâ€”First Day.',\n '',\n 'CHAPTER 134. The Chaseâ€”Second Day.',\n '',\n 'CHAPTER 135. The Chase.â€”Third Day.',\n '',\n 'Epilogue',\n '',\n '',\n '',\n '',\n 'Original Transcriberâ€™s Notes:',\n '',\n '',\n '',\n '',\n '',\n 'This text is a combination of etexts, one from the now-defunct ERIS',\n 'project at Virginia Tech and one from Project Gutenbergâ€™s archives. The',\n 'proofreaders of this version are indebted to The University of Adelaide',\n 'Library for preserving the Virginia Tech version. The resulting etext',\n 'was compared with a public domain hard copy version of the text.',\n '',\n '',\n '',\n '',\n '',\n '  ETYMOLOGY.',\n '',\n '',\n '  (Supplied by a Late Consumptive Usher to a Grammar School.)',\n '',\n '  The pale Usherâ€”threadbare in coat, heart, body, and brain; I see him',\n '  now. He was ever dusting his old lexicons and grammars, with a queer',\n '  handkerchief, mockingly embellished with all the gay flags of all the',\n '  known nations of the world. He loved to dust his old grammars; it',\n '  somehow mildly reminded him of his mortality.',\n '',\n '  â€œWhile you take in hand to school others, and to teach them by what',\n '  name a whale-fish is to be called in our tongue, leaving out, through',\n '  ignorance, the letter H, which almost alone maketh up the',\n '  signification of the word, you deliver that which is not true.â€\\x9d',\n '  â€”_Hackluyt._',\n '',\n '  â€œWHALE. * * * Sw. and Dan. _hval_. This animal is named from',\n '  roundness or rolling; for in Dan. _hvalt_ is arched or vaulted.â€\\x9d',\n '  â€”_Websterâ€™s Dictionary._',\n '',\n '  â€œWHALE. * * * It is more immediately from the Dut. and Ger. _Wallen_;',\n '  A.S. _Walw-ian_, to roll, to wallow.â€\\x9d â€”_Richardsonâ€™s Dictionary._',\n '',\n '',\n '  ×—×•,                 _Hebrew_.',\n '  Ï°Î·Ï„Î¿Ï‚,              _Greek_.',\n '  CETUS,              _Latin_.',\n '  WHÅ’L,               _Anglo-Saxon_.',\n '  HVALT,              _Danish_.',\n '  WAL,                _Dutch_.',\n '  HWAL,               _Swedish_.',\n '  WHALE,              _Icelandic_.',\n '  WHALE,              _English_.',\n '  BALLENA,            _Spanish_.',\n '  PEKEE-NUEE-NUEE,    _Fegee_.',\n '  PEHEE-NUEE-NUEE,    _Erromangoan_.',\n '',\n '',\n '',\n '  EXTRACTS. (Supplied by a Sub-Sub-Librarian).',\n '',\n '',\n '',\n '  It will be seen that this mere painstaking burrower and grub-worm of',\n '  a poor devil of a Sub-Sub appears to have gone through the long',\n '  Vaticans and street-stalls of the earth, picking up whatever random',\n '  allusions to whales he could anyways find in any book whatsoever,',\n '  sacred or profane. Therefore you must not, in every case at least,',\n '  take the higgledy-piggledy whale statements, however authentic, in',\n '  these extracts, for veritable gospel cetology. Far from it. As',\n '  touching the ancient authors generally, as well as the poets here',\n '  appearing, these extracts are solely valuable or entertaining, as',\n '  affording a glancing birdâ€™s eye view of what has been promiscuously',\n '  said, thought, fancied, and sung of Leviathan, by many nations and',\n '  generations, including our own.',\n '',\n '  So fare thee well, poor devil of a Sub-Sub, whose commentator I am.',\n '  Thou belongest to that hopeless, sallow tribe which no wine of this',\n '  world will ever warm; and for whom even Pale Sherry would be too',\n '  rosy-strong; but with whom one sometimes loves to sit, and feel',\n '  poor-devilish, too; and grow convivial upon tears; and say to them',\n '  bluntly, with full eyes and empty glasses, and in not altogether',\n '  unpleasant sadnessâ€”Give it up, Sub-Subs! For by how much the more',\n '  pains ye take to please the world, by so much the more shall ye for',\n '  ever go thankless! Would that I could clear out Hampton Court and the',\n '  Tuileries for ye! But gulp down your tears and hie aloft to the',\n '  royal-mast with your hearts; for your friends who have gone before',\n '  are clearing out the seven-storied heavens, and making refugees of',\n '  long-pampered Gabriel, Michael, and Raphael, against your coming.',\n '  Here ye strike but splintered hearts togetherâ€”there, ye shall strike',\n '  unsplinterable glasses!',\n '',\n 'EXTRACTS.',\n '',\n '  â€œAnd God created great whales.â€\\x9d â€”_Genesis_.',\n '',\n '  â€œLeviathan maketh a path to shine after him; One would think the deep',\n '  to be hoary.â€\\x9d â€”_Job_.',\n '',\n '  â€œNow the Lord had prepared a great fish to swallow up Jonah.â€\\x9d',\n '  â€”_Jonah_.',\n '',\n '  â€œThere go the ships; there is that Leviathan whom thou hast made to',\n '  play therein.â€\\x9d â€”_Psalms_.',\n '',\n '  â€œIn that day, the Lord with his sore, and great, and strong sword,',\n '  shall punish Leviathan the piercing serpent, even Leviathan that',\n '  crooked serpent; and he shall slay the dragon that is in the sea.â€\\x9d',\n '  â€”_Isaiah_.',\n '',\n '  â€œAnd what thing soever besides cometh within the chaos of this',\n '  monsterâ€™s mouth, be it beast, boat, or stone, down it goes all',\n '  incontinently that foul great swallow of his, and perisheth in the',\n '  bottomless gulf of his paunch.â€\\x9d â€”_Hollandâ€™s Plutarchâ€™s Morals_.',\n '',\n '  â€œThe Indian Sea breedeth the most and the biggest fishes that are:',\n '  among which the Whales and Whirlpooles called Balaene, take up as',\n '  much in length as four acres or arpens of land.â€\\x9d â€”_Hollandâ€™s Pliny_.',\n '',\n '  â€œScarcely had we proceeded two days on the sea, when about sunrise a',\n '  great many Whales and other monsters of the sea, appeared. Among the',\n '  former, one was of a most monstrous size.... This came towards us,',\n '  open-mouthed, raising the waves on all sides, and beating the sea',\n '  before him into a foam.â€\\x9d â€”_Tookeâ€™s Lucian_. â€œ_The True History_.â€\\x9d',\n '',\n '',\n '',\n '',\n '  â€œHe visited this country also with a view of catching horse-whales,',\n '  which had bones of very great value for their teeth, of which he',\n '  brought some to the king.... The best whales were catched in his own',\n '  country, of which some were forty-eight, some fifty yards long. He',\n '  said that he was one of six who had killed sixty in two days.â€\\x9d',\n '  â€”_Other or Otherâ€™s verbal narrative taken down from his mouth by King',\n '  Alfred, A.D._ 890.',\n '',\n '  â€œAnd whereas all the other things, whether beast or vessel, that',\n '  enter into the dreadful gulf of this monsterâ€™s (whaleâ€™s) mouth, are',\n '  immediately lost and swallowed up, the sea-gudgeon retires into it in',\n '  great security, and there sleeps.â€\\x9d â€”MONTAIGNE. â€”_Apology for Raimond',\n '  Sebond_.',\n '',\n '  â€œLet us fly, let us fly! Old Nick take me if is not Leviathan',\n '  described by the noble prophet Moses in the life of patient Job.â€\\x9d',\n '  â€”_Rabelais_.',\n '',\n '  â€œThis whaleâ€™s liver was two cartloads.â€\\x9d â€”_Stoweâ€™s Annals_.',\n '',\n '  â€œThe great Leviathan that maketh the seas to seethe like boiling',\n '  pan.â€\\x9d â€”_Lord Baconâ€™s Version of the Psalms_.',\n '',\n '  â€œTouching that monstrous bulk of the whale or ork we have received',\n '  nothing certain. They grow exceeding fat, insomuch that an incredible',\n '  quantity of oil will be extracted out of one whale.â€\\x9d â€”_Ibid_.',\n '  â€œ_History of Life and Death_.â€\\x9d',\n '',\n '',\n '',\n '',\n '  â€œThe sovereignest thing on earth is parmacetti for an inward bruise.â€\\x9d',\n '  â€”_King Henry_.',\n '',\n '  â€œVery like a whale.â€\\x9d â€”_Hamlet_.',\n '',\n '',\n '  â€œWhich to secure, no skill of leachâ€™s art Mote him availle, but to',\n '  returne againe To his woundâ€™s worker, that with lowly dart, Dinting',\n '  his breast, had bred his restless paine, Like as the wounded whale to',\n '  shore flies throâ€™ the maine.â€\\x9d â€”_The Faerie Queen_.',\n '',\n '',\n '',\n '  â€œImmense as whales, the motion of whose vast bodies can in a peaceful',\n '  calm trouble the ocean till it boil.â€\\x9d â€”_Sir William Davenant. Preface',\n '  to Gondibert_.',\n '',\n '  â€œWhat spermacetti is, men might justly doubt, since the learned',\n '  Hosmannus in his work of thirty years, saith plainly, _Nescio quid',\n '  sit_.â€\\x9d â€”_Sir T. Browne. Of Sperma Ceti and the Sperma Ceti Whale.',\n '  Vide his V. E._',\n '',\n '',\n '  â€œLike Spencerâ€™s Talus with his modern flail He threatens ruin with',\n '  his ponderous tail. ... Their fixed javâ€™lins in his side he wears,',\n '  And on his back a grove of pikes appears.â€\\x9d â€”_Wallerâ€™s Battle of the',\n '  Summer Islands_.',\n '',\n '',\n '',\n '  â€œBy art is created that great Leviathan, called a Commonwealth or',\n '  Stateâ€”(in Latin, Civitas) which is but an artificial man.â€\\x9d â€”_Opening',\n '  sentence of Hobbesâ€™s Leviathan_.',\n '',\n '  â€œSilly Mansoul swallowed it without chewing, as if it had been a',\n '  sprat in the mouth of a whale.â€\\x9d â€”_Pilgrimâ€™s Progress_.',\n '',\n '',\n '  â€œThat sea beast Leviathan, which God of all his works Created hugest',\n '  that swim the ocean stream.â€\\x9d â€”_Paradise Lost_.',\n '',\n '  â€”â€œThere Leviathan, Hugest of living creatures, in the deep Stretched',\n '  like a promontory sleeps or swims, And seems a moving land; and at',\n '  his gills Draws in, and at his breath spouts out a sea.â€\\x9d â€”_Ibid_.',\n '',\n '',\n '',\n '  â€œThe mighty whales which swim in a sea of water, and have a sea of',\n '  oil swimming in them.â€\\x9d â€”_Fullerâ€™s Profane and Holy State_.',\n '',\n '',\n '  â€œSo close behind some promontory lie The huge Leviathan to attend',\n '  their prey, And give no chance, but swallow in the fry, Which through',\n '  their gaping jaws mistake the way.â€\\x9d â€”_Drydenâ€™s Annus Mirabilis_.',\n '',\n '',\n '',\n '  â€œWhile the whale is floating at the stern of the ship, they cut off',\n '  his head, and tow it with a boat as near the shore as it will come;',\n '  but it will be aground in twelve or thirteen feet water.â€\\x9d â€”_Thomas',\n '  Edgeâ€™s Ten Voyages to Spitzbergen, in Purchas_.',\n '',\n '  â€œIn their way they saw many whales sporting in the ocean, and in',\n '  wantonness fuzzing up the water through their pipes and vents, which',\n '  nature has placed on their shoulders.â€\\x9d â€”_Sir T. Herbertâ€™s Voyages',\n '  into Asia and Africa. Harris Coll_.',\n '',\n '  â€œHere they saw such huge troops of whales, that they were forced to',\n '  proceed with a great deal of caution for fear they should run their',\n '  ship upon them.â€\\x9d â€”_Schoutenâ€™s Sixth Circumnavigation_.',\n '',\n '  â€œWe set sail from the Elbe, wind N.E. in the ship called The',\n '  Jonas-in-the-Whale.... Some say the whale canâ€™t open his mouth, but',\n '  that is a fable.... They frequently climb up the masts to see whether',\n '  they can see a whale, for the first discoverer has a ducat for his',\n '  pains.... I was told of a whale taken near Shetland, that had above a',\n '  barrel of herrings in his belly.... One of our harpooneers told me',\n '  that he caught once a whale in Spitzbergen that was white all over.â€\\x9d',\n '  â€”_A Voyage to Greenland, A.D._ 1671. _Harris Coll_.',\n '',\n '  â€œSeveral whales have come in upon this coast (Fife) Anno 1652, one',\n '  eighty feet in length of the whale-bone kind came in, which (as I was',\n '  informed), besides a vast quantity of oil, did afford 500 weight of',\n '  baleen. The jaws of it stand for a gate in the garden of Pitferren.â€\\x9d',\n '  â€”_Sibbaldâ€™s Fife and Kinross_.',\n '',\n '  â€œMyself have agreed to try whether I can master and kill this',\n '  Sperma-ceti whale, for I could never hear of any of that sort that',\n '  was killed by any man, such is his fierceness and swiftness.â€\\x9d',\n '  â€”_Richard Straffordâ€™s Letter from the Bermudas. Phil. Trans. A.D._',\n '  1668.',\n '',\n '  â€œWhales in the sea Godâ€™s voice obey.â€\\x9d â€”_N. E. Primer_.',\n '',\n '  â€œWe saw also abundance of large whales, there being more in those',\n '  southern seas, as I may say, by a hundred to one; than we have to the',\n '  northward of us.â€\\x9d â€”_Captain Cowleyâ€™s Voyage round the Globe, A.D._',\n '  1729.',\n '',\n '  â€œ... and the breath of the whale is frequently attended with such an',\n '  insupportable smell, as to bring on a disorder of the brain.â€\\x9d',\n '  â€”_Ulloaâ€™s South America_.',\n '',\n '',\n '  â€œTo fifty chosen sylphs of special note, We trust the important',\n '  charge, the petticoat. Oft have we known that seven-fold fence to',\n '  fail, Thoâ€™ stuffed with hoops and armed with ribs of whale.â€\\x9d â€”_Rape',\n '  of the Lock_.',\n '',\n '',\n '',\n '  â€œIf we compare land animals in respect to magnitude, with those that',\n '  take up their abode in the deep, we shall find they will appear',\n '  contemptible in the comparison. The whale is doubtless the largest',\n '  animal in creation.â€\\x9d â€”_Goldsmith, Nat. Hist_.',\n '',\n '  â€œIf you should write a fable for little fishes, you would make them',\n '  speak like great whales.â€\\x9d â€”_Goldsmith to Johnson_.',\n '',\n '  â€œIn the afternoon we saw what was supposed to be a rock, but it was',\n '  found to be a dead whale, which some Asiatics had killed, and were',\n '  then towing ashore. They seemed to endeavor to conceal themselves',\n '  behind the whale, in order to avoid being seen by us.â€\\x9d â€”_Cookâ€™s',\n '  Voyages_.',\n '',\n '  â€œThe larger whales, they seldom venture to attack. They stand in so',\n '  great dread of some of them, that when out at sea they are afraid to',\n '  mention even their names, and carry dung, lime-stone, juniper-wood,',\n '  and some other articles of the same nature in their boats, in order',\n '  to terrify and prevent their too near approach.â€\\x9d â€”_Uno Von Troilâ€™s',\n '  Letters on Banksâ€™s and Solanderâ€™s Voyage to Iceland in_ 1772.',\n '',\n '  â€œThe Spermacetti Whale found by the Nantuckois, is an active, fierce',\n '  animal, and requires vast address and boldness in the fishermen.â€\\x9d',\n '  â€”_Thomas Jeffersonâ€™s Whale Memorial to the French minister in_ 1778.',\n '',\n '  â€œAnd pray, sir, what in the world is equal to it?â€\\x9d â€”_Edmund Burkeâ€™s',\n '  reference in Parliament to the Nantucket Whale-Fishery_.',\n '',\n '  â€œSpainâ€”a great whale stranded on the shores of Europe.â€\\x9d â€”_Edmund',\n '  Burke_. (_somewhere_.)',\n '',\n '  â€œA tenth branch of the kingâ€™s ordinary revenue, said to be grounded',\n '  on the consideration of his guarding and protecting the seas from',\n '  pirates and robbers, is the right to _royal_ fish, which are whale',\n '  and sturgeon. And these, when either thrown ashore or caught near the',\n '  coast, are the property of the king.â€\\x9d â€”_Blackstone_.',\n '',\n '',\n '  â€œSoon to the sport of death the crews repair: Rodmond unerring oâ€™er',\n '  his head suspends The barbed steel, and every turn attends.â€\\x9d',\n '  â€”_Falconerâ€™s Shipwreck_.',\n '',\n '  â€œBright shone the roofs, the domes, the spires, And rockets blew self',\n '  driven, To hang their momentary fire Around the vault of heaven.',\n '',\n '  â€œSo fire with water to compare, The ocean serves on high, Up-spouted',\n '  by a whale in air, To express unwieldy joy.â€\\x9d â€”_Cowper, on the Queenâ€™s',\n '  Visit to London_.',\n '',\n '',\n '',\n '  â€œTen or fifteen gallons of blood are thrown out of the heart at a',\n '  stroke, with immense velocity.â€\\x9d â€”_John Hunterâ€™s account of the',\n '  dissection of a whale_. (_A small sized one_.)',\n '',\n '  â€œThe aorta of a whale is larger in the bore than the main pipe of the',\n '  water-works at London Bridge, and the water roaring in its passage',\n '  through that pipe is inferior in impetus and velocity to the blood',\n '  gushing from the whaleâ€™s heart.â€\\x9d â€”_Paleyâ€™s Theology_.',\n '',\n '  â€œThe whale is a mammiferous animal without hind feet.â€\\x9d â€”_Baron',\n '  Cuvier_.',\n '',\n '  â€œIn 40 degrees south, we saw Spermacetti Whales, but did not take any',\n '  till the first of May, the sea being then covered with them.â€\\x9d',\n '  â€”_Colnettâ€™s Voyage for the Purpose of Extending the Spermaceti Whale',\n '  Fishery_.',\n '',\n '',\n '  â€œIn the free element beneath me swam, Floundered and dived, in play,',\n '  in chace, in battle, Fishes of every colour, form, and kind; Which',\n '  language cannot paint, and mariner Had never seen; from dread',\n '  Leviathan To insect millions peopling every wave: Gatherâ€™d in shoals',\n '  immense, like floating islands, Led by mysterious instincts through',\n '  that waste And trackless region, though on every side Assaulted by',\n '  voracious enemies, Whales, sharks, and monsters, armâ€™d in front or',\n '  jaw, With swords, saws, spiral horns, or hooked fangs.â€\\x9d',\n '  â€”_Montgomeryâ€™s World before the Flood_.',\n '',\n '  â€œIo!  Paean!  Io! sing. To the finny peopleâ€™s king. Not a mightier',\n '  whale than this In the vast Atlantic is; Not a fatter fish than he,',\n '  Flounders round the Polar Sea.â€\\x9d â€”_Charles Lambâ€™s Triumph of the',\n '  Whale_.',\n '',\n '',\n '',\n '  â€œIn the year 1690 some persons were on a high hill observing the',\n '  whales spouting and sporting with each other, when one observed:',\n '  thereâ€”pointing to the seaâ€”is a green pasture where our childrenâ€™s',\n '  grand-children will go for bread.â€\\x9d â€”_Obed Macyâ€™s History of',\n '  Nantucket_.',\n '',\n '  â€œI built a cottage for Susan and myself and made a gateway in the',\n '  form of a Gothic Arch, by setting up a whaleâ€™s jaw bones.â€\\x9d',\n '  â€”_Hawthorneâ€™s Twice Told Tales_.',\n '',\n '  â€œShe came to bespeak a monument for her first love, who had been',\n '  killed by a whale in the Pacific ocean, no less than forty years',\n '  ago.â€\\x9d â€”_Ibid_.',\n '',\n '  â€œNo, Sir, â€™tis a Right Whale,â€\\x9d answered Tom; â€œI saw his sprout; he',\n '  threw up a pair of as pretty rainbows as a Christian would wish to',\n '  look at. Heâ€™s a raal oil-butt, that fellow!â€\\x9d â€”_Cooperâ€™s Pilot_.',\n '',\n '  â€œThe papers were brought in, and we saw in the Berlin Gazette that',\n '  whales had been introduced on the stage there.â€\\x9d â€”_Eckermannâ€™s',\n '  Conversations with Goethe_.',\n '',\n '  â€œMy God! Mr. Chace, what is the matter?â€\\x9d I answered, â€œwe have been',\n '  stove by a whale.â€\\x9d â€”â€œ_Narrative of the Shipwreck of the Whale Ship',\n '  Essex of Nantucket, which was attacked and finally destroyed by a',\n '  large Sperm Whale in the Pacific Ocean_.â€\\x9d _By Owen Chace of',\n '  Nantucket, first mate of said vessel. New York_, 1821.',\n '',\n '',\n '  â€œA mariner sat in the shrouds one night, The wind was piping free;',\n '  Now bright, now dimmed, was the moonlight pale, And the phospher',\n '  gleamed in the wake of the whale, As it floundered in the sea.â€\\x9d',\n '  â€”_Elizabeth Oakes Smith_.',\n '',\n '',\n '',\n '  â€œThe quantity of line withdrawn from the boats engaged in the capture',\n '  of this one whale, amounted altogether to 10,440 yards or nearly six',\n '  English miles....',\n '',\n '  â€œSometimes the whale shakes its tremendous tail in the air, which,',\n '  cracking like a whip, resounds to the distance of three or four',\n '  miles.â€\\x9d â€”_Scoresby_.',\n '',\n '  â€œMad with the agonies he endures from these fresh attacks, the',\n '  infuriated Sperm Whale rolls over and over; he rears his enormous',\n '  head, and with wide expanded jaws snaps at everything around him; he',\n '  rushes at the boats with his head; they are propelled before him with',\n '  vast swiftness, and sometimes utterly destroyed.... It is a matter of',\n '  great astonishment that the consideration of the habits of so',\n '  interesting, and, in a commercial point of view, so important an',\n '  animal (as the Sperm Whale) should have been so entirely neglected,',\n '  or should have excited so little curiosity among the numerous, and',\n '  many of them competent observers, that of late years, must have',\n '  possessed the most abundant and the most convenient opportunities of',\n '  witnessing their habitudes.â€\\x9d â€”_Thomas Bealeâ€™s History of the Sperm',\n '  Whale_, 1839.',\n '',\n '  â€œThe Cachalotâ€\\x9d (Sperm Whale) â€œis not only better armed than the True',\n '  Whaleâ€\\x9d (Greenland or Right Whale) â€œin possessing a formidable weapon',\n '  at either extremity of its body, but also more frequently displays a',\n '  disposition to employ these weapons offensively and in manner at once',\n '  so artful, bold, and mischievous, as to lead to its being regarded as',\n '  the most dangerous to attack of all the known species of the whale',\n '  tribe.â€\\x9d â€”_Frederick Debell Bennettâ€™s Whaling Voyage Round the Globe_,',\n '  1840.',\n '',\n '',\n '  October 13.  â€œThere she blows,â€\\x9d was sung out from the mast-head.',\n '  â€œWhere away?â€\\x9d demanded the captain. â€œThree points off the lee bow,',\n '  sir.â€\\x9d â€œRaise up your wheel.  Steady!â€\\x9d  â€œSteady, sir.â€\\x9d â€œMast-head',\n '  ahoy! Do you see that whale now?â€\\x9d â€œAy ay, sir!  A shoal of Sperm',\n '  Whales! There she blows!  There she breaches!â€\\x9d â€œSing out! sing out',\n '  every time!â€\\x9d â€œAy Ay, sir!  There she blows! thereâ€”thereâ€”_thar_ she',\n '  blowsâ€”bowesâ€”bo-o-os!â€\\x9d â€œHow far off?â€\\x9d â€œTwo miles and a half.â€\\x9d â€œThunder',\n '  and lightning! so near!  Call all hands.â€\\x9d â€”_J. Ross Browneâ€™s Etchings',\n '  of a Whaling Cruize_.  1846.',\n '',\n '',\n '',\n '  â€œThe Whale-ship Globe, on board of which vessel occurred the horrid',\n '  transactions we are about to relate, belonged to the island of',\n '  Nantucket.â€\\x9d â€”â€œ_Narrative of the Globe Mutiny_,â€\\x9d _by Lay and Hussey',\n '  survivors. A.D._ 1828.',\n '',\n '  Being once pursued by a whale which he had wounded, he parried the',\n '  assault for some time with a lance; but the furious monster at length',\n '  rushed on the boat; himself and comrades only being preserved by',\n '  leaping into the water when they saw the onset was inevitable.â€\\x9d',\n '  â€”_Missionary Journal of Tyerman and Bennett_.',\n '',\n '  â€œNantucket itself,â€\\x9d said Mr. Webster, â€œis a very striking and',\n '  peculiar portion of the National interest. There is a population of',\n '  eight or nine thousand persons living here in the sea, adding largely',\n '  every year to the National wealth by the boldest and most persevering',\n '  industry.â€\\x9d â€”_Report of Daniel Websterâ€™s Speech in the U. S. Senate,',\n '  on the application for the Erection of a Breakwater at Nantucket_.',\n '  1828.',\n '',\n '  â€œThe whale fell directly over him, and probably killed him in a',\n '  moment.â€\\x9d â€”â€œ_The Whale and his Captors, or The Whalemanâ€™s Adventures',\n '  and the Whaleâ€™s Biography, gathered on the Homeward Cruise of the',\n '  Commodore Preble_.â€\\x9d _By Rev. Henry T. Cheever_.',\n '',\n '  â€œIf you make the least damn bit of noise,â€\\x9d replied Samuel, â€œI will',\n '  send you to hell.â€\\x9d â€”_Life of Samuel Comstock_ (_the mutineer_), _by',\n '  his brother, William Comstock. Another Version of the whale-ship',\n '  Globe narrative_.',\n '',\n '  â€œThe voyages of the Dutch and English to the Northern Ocean, in',\n '  order, if possible, to discover a passage through it to India, though',\n '  they failed of their main object, laid-open the haunts of the whale.â€\\x9d',\n '  â€”_McCullochâ€™s Commercial Dictionary_.',\n '',\n '  â€œThese things are reciprocal; the ball rebounds, only to bound',\n '  forward again; for now in laying open the haunts of the whale, the',\n '  whalemen seem to have indirectly hit upon new clews to that same',\n '  mystic North-West Passage.â€\\x9d â€”_From_ â€œ_Something_â€\\x9d _unpublished_.',\n '',\n '  â€œIt is impossible to meet a whale-ship on the ocean without being',\n '  struck by her near appearance. The vessel under short sail, with',\n '  look-outs at the mast-heads, eagerly scanning the wide expanse around',\n '  them, has a totally different air from those engaged in regular',\n '  voyage.â€\\x9d â€”_Currents and Whaling. U.S. Ex. Ex_.',\n '',\n '  â€œPedestrians in the vicinity of London and elsewhere may recollect',\n '  having seen large curved bones set upright in the earth, either to',\n '  form arches over gateways, or entrances to alcoves, and they may',\n '  perhaps have been told that these were the ribs of whales.â€\\x9d â€”_Tales',\n '  of a Whale Voyager to the Arctic Ocean_.',\n '',\n '  â€œIt was not till the boats returned from the pursuit of these whales,',\n '  that the whites saw their ship in bloody possession of the savages',\n '  enrolled among the crew.â€\\x9d â€”_Newspaper Account of the Taking and',\n '  Retaking of the Whale-Ship Hobomack_.',\n '',\n '  â€œIt is generally well known that out of the crews of Whaling vessels',\n '  (American) few ever return in the ships on board of which they',\n '  departed.â€\\x9d â€”_Cruise in a Whale Boat_.',\n '',\n '  â€œSuddenly a mighty mass emerged from the water, and shot up',\n '  perpendicularly into the air. It was the whale.â€\\x9d â€”_Miriam Coffin or',\n '  the Whale Fisherman_.',\n '',\n '  â€œThe Whale is harpooned to be sure; but bethink you, how you would',\n '  manage a powerful unbroken colt, with the mere appliance of a rope',\n '  tied to the root of his tail.â€\\x9d â€”_A Chapter on Whaling in Ribs and',\n '  Trucks_.',\n '',\n '  â€œOn one occasion I saw two of these monsters (whales) probably male',\n '  and female, slowly swimming, one after the other, within less than a',\n '  stoneâ€™s throw of the shoreâ€\\x9d (Terra Del Fuego), â€œover which the beech',\n '  tree extended its branches.â€\\x9d â€”_Darwinâ€™s Voyage of a Naturalist_.',\n '',\n '  â€œâ€˜Stern all!â€™ exclaimed the mate, as upon turning his head, he saw',\n '  the distended jaws of a large Sperm Whale close to the head of the',\n '  boat, threatening it with instant destruction;â€”â€˜Stern all, for your',\n '  lives!â€™â€\\x9d â€”_Wharton the Whale Killer_.',\n '',\n '  â€œSo be cheery, my lads, let your hearts never fail, While the bold',\n '  harpooneer is striking the whale!â€\\x9d â€”_Nantucket Song_.',\n '',\n '',\n '  â€œOh, the rare old Whale, mid storm and gale In his ocean home will be',\n '  A giant in might, where might is right, And King of the boundless',\n '  sea.â€\\x9d â€”_Whale Song_.',\n '',\n '',\n '',\n '',\n '',\n 'CHAPTER 1. Loomings.',\n '',\n 'Call me Ishmael. Some years agoâ€”never mind how long preciselyâ€”having',\n 'little or no money in my purse, and nothing particular to interest me',\n 'on shore, I thought I would sail about a little and see the watery part',\n 'of the world. It is a way I have of driving off the spleen and',\n 'regulating the circulation. Whenever I find myself growing grim about',\n 'the mouth; whenever it is a damp, drizzly November in my soul; whenever',\n 'I find myself involuntarily pausing before coffin warehouses, and',\n 'bringing up the rear of every funeral I meet; and especially whenever',\n 'my hypos get such an upper hand of me, that it requires a strong moral',\n 'principle to prevent me from deliberately stepping into the street, and',\n 'methodically knocking peopleâ€™s hats offâ€”then, I account it high time to',\n 'get to sea as soon as I can. This is my substitute for pistol and ball.',\n 'With a philosophical flourish Cato throws himself upon his sword; I',\n 'quietly take to the ship. There is nothing surprising in this. If they',\n 'but knew it, almost all men in their degree, some time or other,',\n 'cherish very nearly the same feelings towards the ocean with me.',\n '',\n 'There now is your insular city of the Manhattoes, belted round by',\n 'wharves as Indian isles by coral reefsâ€”commerce surrounds it with her',\n 'surf. Right and left, the streets take you waterward. Its extreme',\n 'downtown is the battery, where that noble mole is washed by waves, and',\n 'cooled by breezes, which a few hours previous were out of sight of',\n 'land. Look at the crowds of water-gazers there.',\n '',\n 'Circumambulate the city of a dreamy Sabbath afternoon. Go from Corlears',\n 'Hook to Coenties Slip, and from thence, by Whitehall, northward. What',\n 'do you see?â€”Posted like silent sentinels all around the town, stand',\n 'thousands upon thousands of mortal men fixed in ocean reveries. Some',\n 'leaning against the spiles; some seated upon the pier-heads; some',\n 'looking over the bulwarks of ships from China; some high aloft in the',\n 'rigging, as if striving to get a still better seaward peep. But these',\n 'are all landsmen; of week days pent up in lath and plasterâ€”tied to',\n 'counters, nailed to benches, clinched to desks. How then is this? Are',\n 'the green fields gone? What do they here?',\n '',\n 'But look! here come more crowds, pacing straight for the water, and',\n 'seemingly bound for a dive. Strange! Nothing will content them but the',\n 'extremest limit of the land; loitering under the shady lee of yonder',\n 'warehouses will not suffice. No. They must get just as nigh the water',\n 'as they possibly can without falling in. And there they standâ€”miles of',\n 'themâ€”leagues. Inlanders all, they come from lanes and alleys, streets',\n 'and avenuesâ€”north, east, south, and west. Yet here they all unite. Tell',\n 'me, does the magnetic virtue of the needles of the compasses of all',\n 'those ships attract them thither?',\n '',\n 'Once more. Say you are in the country; in some high land of lakes. Take',\n 'almost any path you please, and ten to one it carries you down in a',\n 'dale, and leaves you there by a pool in the stream. There is magic in',\n 'it. Let the most absent-minded of men be plunged in his deepest',\n 'reveriesâ€”stand that man on his legs, set his feet a-going, and he will',\n 'infallibly lead you to water, if water there be in all that region.',\n 'Should you ever be athirst in the great American desert, try this',\n 'experiment, if your caravan happen to be supplied with a metaphysical',\n 'professor. Yes, as every one knows, meditation and water are wedded for',\n 'ever.',\n '',\n 'But here is an artist. He desires to paint you the dreamiest, shadiest,',\n 'quietest, most enchanting bit of romantic landscape in all the valley',\n 'of the Saco. What is the chief element he employs? There stand his',\n 'trees, each with a hollow trunk, as if a hermit and a crucifix were',\n 'within; and here sleeps his meadow, and there sleep his cattle; and up',\n 'from yonder cottage goes a sleepy smoke. Deep into distant woodlands',\n 'winds a mazy way, reaching to overlapping spurs of mountains bathed in',\n 'their hill-side blue. But though the picture lies thus tranced, and',\n 'though this pine-tree shakes down its sighs like leaves upon this',\n 'shepherdâ€™s head, yet all were vain, unless the shepherdâ€™s eye were',\n 'fixed upon the magic stream before him. Go visit the Prairies in June,',\n 'when for scores on scores of miles you wade knee-deep among',\n 'Tiger-liliesâ€”what is the one charm wanting?â€”Waterâ€”there is not a drop',\n 'of water there! Were Niagara but a cataract of sand, would you travel',\n 'your thousand miles to see it? Why did the poor poet of Tennessee, upon',\n 'suddenly receiving two handfuls of silver, deliberate whether to buy',\n 'him a coat, which he sadly needed, or invest his money in a pedestrian',\n 'trip to Rockaway Beach? Why is almost every robust healthy boy with a',\n 'robust healthy soul in him, at some time or other crazy to go to sea?',\n 'Why upon your first voyage as a passenger, did you yourself feel such a',\n 'mystical vibration, when first told that you and your ship were now out',\n 'of sight of land? Why did the old Persians hold the sea holy? Why did',\n 'the Greeks give it a separate deity, and own brother of Jove? Surely',\n 'all this is not without meaning. And still deeper the meaning of that',\n 'story of Narcissus, who because he could not grasp the tormenting, mild',\n 'image he saw in the fountain, plunged into it and was drowned. But that',\n 'same image, we ourselves see in all rivers and oceans. It is the image',\n 'of the ungraspable phantom of life; and this is the key to it all.',\n '',\n 'Now, when I say that I am in the habit of going to sea whenever I begin',\n 'to grow hazy about the eyes, and begin to be over conscious of my',\n 'lungs, I do not mean to have it inferred that I ever go to sea as a',\n 'passenger. For to go as a passenger you must needs have a purse, and a',\n 'purse is but a rag unless you have something in it. Besides, passengers',\n 'get sea-sickâ€”grow quarrelsomeâ€”donâ€™t sleep of nightsâ€”do not enjoy',\n 'themselves much, as a general thing;â€”no, I never go as a passenger;',\n 'nor, though I am something of a salt, do I ever go to sea as a',\n 'Commodore, or a Captain, or a Cook. I abandon the glory and distinction',\n 'of such offices to those who like them. For my part, I abominate all',\n 'honorable respectable toils, trials, and tribulations of every kind',\n 'whatsoever. It is quite as much as I can do to take care of myself,',\n 'without taking care of ships, barques, brigs, schooners, and what not.',\n 'And as for going as cook,â€”though I confess there is considerable glory',\n 'in that, a cook being a sort of officer on ship-boardâ€”yet, somehow, I',\n 'never fancied broiling fowls;â€”though once broiled, judiciously',\n 'buttered, and judgmatically salted and peppered, there is no one who',\n 'will speak more respectfully, not to say reverentially, of a broiled',\n 'fowl than I will. It is out of the idolatrous dotings of the old',\n 'Egyptians upon broiled ibis and roasted river horse, that you see the',\n 'mummies of those creatures in their huge bake-houses the pyramids.',\n '',\n 'No, when I go to sea, I go as a simple sailor, right before the mast,',\n 'plumb down into the forecastle, aloft there to the royal mast-head.',\n 'True, they rather order me about some, and make me jump from spar to',\n 'spar, like a grasshopper in a May meadow. And at first, this sort of',\n 'thing is unpleasant enough. It touches oneâ€™s sense of honor,',\n 'particularly if you come of an old established family in the land, the',\n 'Van Rensselaers, or Randolphs, or Hardicanutes. And more than all, if',\n 'just previous to putting your hand into the tar-pot, you have been',\n 'lording it as a country schoolmaster, making the tallest boys stand in',\n 'awe of you. The transition is a keen one, I assure you, from a',\n 'schoolmaster to a sailor, and requires a strong decoction of Seneca and',\n 'the Stoics to enable you to grin and bear it. But even this wears off',\n 'in time.',\n '',\n 'What of it, if some old hunks of a sea-captain orders me to get a broom',\n 'and sweep down the decks? What does that indignity amount to, weighed,',\n 'I mean, in the scales of the New Testament? Do you think the archangel',\n 'Gabriel thinks anything the less of me, because I promptly and',\n 'respectfully obey that old hunks in that particular instance? Who ainâ€™t',\n 'a slave? Tell me that. Well, then, however the old sea-captains may',\n 'order me aboutâ€”however they may thump and punch me about, I have the',\n 'satisfaction of knowing that it is all right; that everybody else is',\n 'one way or other served in much the same wayâ€”either in a physical or',\n 'metaphysical point of view, that is; and so the universal thump is',\n 'passed round, and all hands should rub each otherâ€™s shoulder-blades,',\n 'and be content.',\n '',\n 'Again, I always go to sea as a sailor, because they make a point of',\n 'paying me for my trouble, whereas they never pay passengers a single',\n 'penny that I ever heard of. On the contrary, passengers themselves must',\n 'pay. And there is all the difference in the world between paying and',\n 'being paid. The act of paying is perhaps the most uncomfortable',\n 'infliction that the two orchard thieves entailed upon us. But _being',\n 'paid_,â€”what will compare with it? The urbane activity with which a man',\n 'receives money is really marvellous, considering that we so earnestly',\n 'believe money to be the root of all earthly ills, and that on no',\n 'account can a monied man enter heaven. Ah! how cheerfully we consign',\n 'ourselves to perdition!',\n '',\n 'Finally, I always go to sea as a sailor, because of the wholesome',\n 'exercise and pure air of the fore-castle deck. For as in this world,',\n 'head winds are far more prevalent than winds from astern (that is, if',\n 'you never violate the Pythagorean maxim), so for the most part the',\n 'Commodore on the quarter-deck gets his atmosphere at second hand from',\n 'the sailors on the forecastle. He thinks he breathes it first; but not',\n 'so. In much the same way do the commonalty lead their leaders in many',\n 'other things, at the same time that the leaders little suspect it. But',\n 'wherefore it was that after having repeatedly smelt the sea as a',\n 'merchant sailor, I should now take it into my head to go on a whaling',\n 'voyage; this the invisible police officer of the Fates, who has the',\n 'constant surveillance of me, and secretly dogs me, and influences me in',\n 'some unaccountable wayâ€”he can better answer than any one else. And,',\n 'doubtless, my going on this whaling voyage, formed part of the grand',\n 'programme of Providence that was drawn up a long time ago. It came in',\n 'as a sort of brief interlude and solo between more extensive',\n 'performances. I take it that this part of the bill must have run',\n 'something like this:',\n '',\n 'â€œ_Grand Contested Election for the Presidency of the United States._',\n 'â€œWHALING VOYAGE BY ONE ISHMAEL. â€œBLOODY BATTLE IN AFFGHANISTAN.â€\\x9d',\n '',\n 'Though I cannot tell why it was exactly that those stage managers, the',\n 'Fates, put me down for this shabby part of a whaling voyage, when',\n 'others were set down for magnificent parts in high tragedies, and short',\n 'and easy parts in genteel comedies, and jolly parts in farcesâ€”though I',\n 'cannot tell why this was exactly; yet, now that I recall all the',\n 'circumstances, I think I can see a little into the springs and motives',\n 'which being cunningly presented to me under various disguises, induced',\n 'me to set about performing the part I did, besides cajoling me into the',\n 'delusion that it was a choice resulting from my own unbiased freewill',\n 'and discriminating judgment.',\n '',\n 'Chief among these motives was the overwhelming idea of the great whale',\n 'himself. Such a portentous and mysterious monster roused all my',\n ...]"
     ]
    }
   ],
   "source": [
    "moby_rdd.collect()"
   ]
  },
  {
   "cell_type": "markdown",
   "metadata": {
    "application/vnd.databricks.v1+cell": {
     "cellMetadata": {},
     "inputWidgets": {},
     "nuid": "e51d5f68-3cf5-44f0-a56b-28f495be62fa",
     "showTitle": false,
     "title": ""
    }
   },
   "source": [
    "Compter et afficher le nombre de lignes de celui-ci."
   ]
  },
  {
   "cell_type": "code",
   "execution_count": 0,
   "metadata": {
    "application/vnd.databricks.v1+cell": {
     "cellMetadata": {
      "byteLimit": 2048000,
      "rowLimit": 10000
     },
     "inputWidgets": {},
     "nuid": "1c5ae359-bb00-422f-8dc8-e8b3bcb7ebf1",
     "showTitle": false,
     "title": ""
    }
   },
   "outputs": [
    {
     "output_type": "stream",
     "name": "stdout",
     "output_type": "stream",
     "text": [
      "21933\n"
     ]
    }
   ],
   "source": [
    "line_count = moby_rdd.count()\n",
    "print(line_count)"
   ]
  },
  {
   "cell_type": "markdown",
   "metadata": {
    "application/vnd.databricks.v1+cell": {
     "cellMetadata": {},
     "inputWidgets": {},
     "nuid": "4dfa5471-6356-4b0c-accc-fc4acb0b8007",
     "showTitle": false,
     "title": ""
    }
   },
   "source": [
    "Créer un nouveau RDD qui contiendra les lignes contenant le mot ‘chapter’ (non sensible à la casse). Combien y en a-t-il ?"
   ]
  },
  {
   "cell_type": "code",
   "execution_count": 0,
   "metadata": {
    "application/vnd.databricks.v1+cell": {
     "cellMetadata": {
      "byteLimit": 2048000,
      "rowLimit": 10000
     },
     "inputWidgets": {},
     "nuid": "9a8d8bc1-c1a3-4974-b7f4-f2c7070abed8",
     "showTitle": false,
     "title": ""
    }
   },
   "outputs": [
    {
     "output_type": "stream",
     "name": "stdout",
     "output_type": "stream",
     "text": [
      "316\n"
     ]
    }
   ],
   "source": [
    "chapter_rdd = moby_rdd.filter(lambda x: \"chapter\" in x.lower())\n",
    "print(chapter_rdd.count())"
   ]
  },
  {
   "cell_type": "markdown",
   "metadata": {
    "application/vnd.databricks.v1+cell": {
     "cellMetadata": {},
     "inputWidgets": {},
     "nuid": "c73428c0-12cc-4adf-bedf-e1389137766e",
     "showTitle": false,
     "title": ""
    }
   },
   "source": [
    "Créer un nouveau RDD qui contiendra uniquement les lignes non vides de mobyDick. Combien y en a-t-il ?\n"
   ]
  },
  {
   "cell_type": "code",
   "execution_count": 0,
   "metadata": {
    "application/vnd.databricks.v1+cell": {
     "cellMetadata": {
      "byteLimit": 2048000,
      "rowLimit": 10000
     },
     "inputWidgets": {},
     "nuid": "e0d097fb-fee8-4a25-b904-3b72a5f7906e",
     "showTitle": false,
     "title": ""
    }
   },
   "outputs": [],
   "source": [
    "non_empty_rdd = moby_rdd.filter(lambda x: len(x.strip()) > 0)"
   ]
  },
  {
   "cell_type": "markdown",
   "metadata": {
    "application/vnd.databricks.v1+cell": {
     "cellMetadata": {},
     "inputWidgets": {},
     "nuid": "802af410-b964-4498-9ab7-b93cabd7b822",
     "showTitle": false,
     "title": ""
    }
   },
   "source": [
    "Compter le nombre d’occurrences de chaque mot dans le document obtenu à la question précédente, en suivant l’approche du WordCount de MapReduce. Consulter la documentation des méthodes flatMap, map et reduceByKey. Combien y a-t-il de mots différents au total ?"
   ]
  },
  {
   "cell_type": "code",
   "execution_count": 0,
   "metadata": {
    "application/vnd.databricks.v1+cell": {
     "cellMetadata": {
      "byteLimit": 2048000,
      "rowLimit": 10000
     },
     "inputWidgets": {},
     "nuid": "292799f6-d52e-42a8-96e7-412d851d8e1c",
     "showTitle": false,
     "title": ""
    }
   },
   "outputs": [],
   "source": [
    "rdd_test = sc.parallelize([\"ceci est ma ligne 1\", \"ligne 2\"])"
   ]
  },
  {
   "cell_type": "code",
   "execution_count": 0,
   "metadata": {
    "application/vnd.databricks.v1+cell": {
     "cellMetadata": {
      "byteLimit": 2048000,
      "rowLimit": 10000
     },
     "inputWidgets": {},
     "nuid": "1db7ace4-ec5e-484b-80ff-364f829618f8",
     "showTitle": false,
     "title": ""
    }
   },
   "outputs": [],
   "source": [
    "word_counts = moby_rdd.flatMap(str.split).map(lambda word: (word, 1)).reduceByKey(int.__add__)"
   ]
  },
  {
   "cell_type": "markdown",
   "metadata": {
    "application/vnd.databricks.v1+cell": {
     "cellMetadata": {},
     "inputWidgets": {},
     "nuid": "d4ba68fc-acb0-48f7-a5a9-9ff2d8ab3334",
     "showTitle": false,
     "title": ""
    }
   },
   "source": [
    "Afficher les 10 mots les plus fréquents du livre."
   ]
  },
  {
   "cell_type": "code",
   "execution_count": 0,
   "metadata": {
    "application/vnd.databricks.v1+cell": {
     "cellMetadata": {
      "byteLimit": 2048000,
      "rowLimit": 10000
     },
     "inputWidgets": {},
     "nuid": "c8d468bf-9dc0-49fd-8ca6-f381d1c9db64",
     "showTitle": false,
     "title": ""
    }
   },
   "outputs": [
    {
     "output_type": "stream",
     "name": "stdout",
     "output_type": "stream",
     "text": [
      "[('the', 13694), ('of', 6531), ('and', 5932), ('a', 4493), ('to', 4459), ('in', 3850), ('that', 2679), ('his', 2428), ('I', 1723), ('with', 1649)]\n"
     ]
    }
   ],
   "source": [
    "top_ten_words = word_counts.sortBy(lambda x: x[1], ascending=False).take(10)\n",
    "print(top_ten_words)"
   ]
  },
  {
   "cell_type": "code",
   "execution_count": 0,
   "metadata": {
    "application/vnd.databricks.v1+cell": {
     "cellMetadata": {
      "byteLimit": 2048000,
      "rowLimit": 10000
     },
     "inputWidgets": {},
     "nuid": "47be4d12-4dd9-403d-b7b8-0686a6b7465a",
     "showTitle": false,
     "title": ""
    }
   },
   "outputs": [
    {
     "output_type": "stream",
     "name": "stdout",
     "output_type": "stream",
     "text": [
      "[(13694, 'the'), (6531, 'of'), (5932, 'and'), (4493, 'a'), (4459, 'to'), (3850, 'in'), (2679, 'that'), (2428, 'his'), (1723, 'I'), (1649, 'with')]\n"
     ]
    }
   ],
   "source": [
    "top_ten_words = word_counts.map(lambda x: (x[1], x[0])).top(10)\n",
    "print(top_ten_words)"
   ]
  },
  {
   "cell_type": "markdown",
   "metadata": {
    "application/vnd.databricks.v1+cell": {
     "cellMetadata": {},
     "inputWidgets": {},
     "nuid": "04739c1f-054c-4196-bf73-49e7758549b3",
     "showTitle": false,
     "title": ""
    }
   },
   "source": [
    "## Partie 2 : Représentation d'un graphe sous forme de RDD (sans utiliser GraphX ni de GraphFrame)."
   ]
  },
  {
   "cell_type": "markdown",
   "metadata": {
    "application/vnd.databricks.v1+cell": {
     "cellMetadata": {},
     "inputWidgets": {},
     "nuid": "f50f187e-78e6-483a-9797-f0d970bcd3a2",
     "showTitle": false,
     "title": ""
    }
   },
   "source": [
    "On considère l’ensemble de triplets suivants, représentant les arcs d'un graphe :"
   ]
  },
  {
   "cell_type": "code",
   "execution_count": 0,
   "metadata": {
    "application/vnd.databricks.v1+cell": {
     "cellMetadata": {
      "byteLimit": 2048000,
      "rowLimit": 10000
     },
     "inputWidgets": {},
     "nuid": "92ac7571-96cc-4e70-bd20-6ee1dbd48359",
     "showTitle": false,
     "title": ""
    }
   },
   "outputs": [],
   "source": [
    "graph = {\n",
    "    (1, 0, 5),\n",
    "    (5, 1, 8),\n",
    "    (8, 2, 1),\n",
    "    (2 ,0 ,6),\n",
    "    (3, 0, 6),\n",
    "    (6, 1, 9),\n",
    "    (5, 1, 9),\n",
    "    (9, 3, 11),\n",
    "    (9, 4, 12),\n",
    "    (4, 0, 7),\n",
    "    (7, 1, 9),\n",
    "    (7, 2, 10),\n",
    "    (14, 1, 15),\n",
    "    (15, 1, 16),\n",
    "    (14, 1, 16),\n",
    "    (17, 0, 18),\n",
    "    (18, 0, 19),\n",
    "    (19, 1, 20),\n",
    "    (20, 0, 17),\n",
    "}"
   ]
  },
  {
   "cell_type": "markdown",
   "metadata": {
    "application/vnd.databricks.v1+cell": {
     "cellMetadata": {},
     "inputWidgets": {},
     "nuid": "44ae01ad-1376-4f08-ab6f-dd518a41814c",
     "showTitle": false,
     "title": ""
    }
   },
   "source": [
    "La structure de chaque arc est la suivante :\n",
    "    <br>- le premier élément correspond à l’identifiant du nœud d'origine (sujet du triplet),\n",
    "    <br>- le second élément correspond au label de l’arc,\n",
    "    <br>- le troisième et dernier élément correspond à l’identifiant du nœud d'arrivée (objet du triplet)."
   ]
  },
  {
   "cell_type": "markdown",
   "metadata": {
    "application/vnd.databricks.v1+cell": {
     "cellMetadata": {},
     "inputWidgets": {},
     "nuid": "b292003e-31a3-40b7-831b-99e1b71cfddf",
     "showTitle": false,
     "title": ""
    }
   },
   "source": [
    "Charger le graphe dans un RDD. Compter et afficher le nombre d'arcs qu'il contient."
   ]
  },
  {
   "cell_type": "code",
   "execution_count": 0,
   "metadata": {
    "application/vnd.databricks.v1+cell": {
     "cellMetadata": {
      "byteLimit": 2048000,
      "rowLimit": 10000
     },
     "inputWidgets": {},
     "nuid": "52553284-5438-4500-afc0-87ac9d1fb268",
     "showTitle": false,
     "title": ""
    }
   },
   "outputs": [
    {
     "output_type": "stream",
     "name": "stdout",
     "output_type": "stream",
     "text": [
      "19\n"
     ]
    }
   ],
   "source": [
    "triplet_rdd = sc.parallelize(graph)\n",
    "print(triplet_rdd.count())"
   ]
  },
  {
   "cell_type": "markdown",
   "metadata": {
    "application/vnd.databricks.v1+cell": {
     "cellMetadata": {},
     "inputWidgets": {},
     "nuid": "9670b15e-0fa1-434a-8458-858b27d6bfb7",
     "showTitle": false,
     "title": ""
    }
   },
   "source": [
    "En pratique nous ne souhaitons pas utiliser les labels des arcs. Créer un nouveau RDD ne comportant que les paires (sujet, objet)."
   ]
  },
  {
   "cell_type": "code",
   "execution_count": 0,
   "metadata": {
    "application/vnd.databricks.v1+cell": {
     "cellMetadata": {
      "byteLimit": 2048000,
      "rowLimit": 10000
     },
     "inputWidgets": {},
     "nuid": "c9535922-955d-4b27-be22-2ae8c61564cf",
     "showTitle": false,
     "title": ""
    }
   },
   "outputs": [
    {
     "output_type": "stream",
     "name": "stdout",
     "output_type": "stream",
     "text": [
      "Out[37]: [(7, 10),\n (5, 9),\n (8, 1),\n (4, 7),\n (15, 16),\n (19, 20),\n (14, 16),\n (7, 9),\n (17, 18),\n (9, 11),\n (2, 6),\n (6, 9),\n (18, 19),\n (14, 15),\n (20, 17),\n (3, 6),\n (5, 8),\n (9, 12),\n (1, 5)]"
     ]
    }
   ],
   "source": [
    "pair_rdd = triplet_rdd.map(lambda x: (x[0], x[2]))\n",
    "pair_rdd.collect()"
   ]
  },
  {
   "cell_type": "markdown",
   "metadata": {
    "application/vnd.databricks.v1+cell": {
     "cellMetadata": {},
     "inputWidgets": {},
     "nuid": "2e7f8ca8-a29e-46c8-b0ca-9dc304481ab8",
     "showTitle": false,
     "title": ""
    }
   },
   "source": [
    "On appelle racine un noeud qui ne reçoit aucun arc (qui n'est objet d'aucun triplet). Créer un RDD ne contenant que les racines du graphe. Pour cela, créer deux rdd intermédiaires contenant l'ensemble des objets d'une part et des sujets d'autre part et les persister au niveau MEMORY_ONLY. Les racines sont les sujets privés des objets.\n",
    "Afficher les racines."
   ]
  },
  {
   "cell_type": "code",
   "execution_count": 0,
   "metadata": {
    "application/vnd.databricks.v1+cell": {
     "cellMetadata": {
      "byteLimit": 2048000,
      "rowLimit": 10000
     },
     "inputWidgets": {},
     "nuid": "bc6ec2b6-519a-4094-af82-64954c22504e",
     "showTitle": false,
     "title": ""
    }
   },
   "outputs": [],
   "source": [
    "from pyspark import StorageLevel"
   ]
  },
  {
   "cell_type": "code",
   "execution_count": 0,
   "metadata": {
    "application/vnd.databricks.v1+cell": {
     "cellMetadata": {
      "byteLimit": 2048000,
      "rowLimit": 10000
     },
     "inputWidgets": {},
     "nuid": "ad6050ad-d356-4181-a56a-2a38acee5193",
     "showTitle": false,
     "title": ""
    }
   },
   "outputs": [
    {
     "output_type": "stream",
     "name": "stdout",
     "output_type": "stream",
     "text": [
      "Out[43]: [8, 17, 9, 1, 2, 18, 19, 3, 4, 20, 5, 14, 6, 7, 15]"
     ]
    }
   ],
   "source": [
    "object_rdd.collect()"
   ]
  },
  {
   "cell_type": "code",
   "execution_count": 0,
   "metadata": {
    "application/vnd.databricks.v1+cell": {
     "cellMetadata": {
      "byteLimit": 2048000,
      "rowLimit": 10000
     },
     "inputWidgets": {},
     "nuid": "93db793c-f4c9-4657-b3c4-c1ba3a0e4345",
     "showTitle": false,
     "title": ""
    }
   },
   "outputs": [
    {
     "output_type": "stream",
     "name": "stdout",
     "output_type": "stream",
     "text": [
      "[2, 3, 4, 14]\n[16, 10, 11, 12]\n"
     ]
    }
   ],
   "source": [
    "subject_rdd = pair_rdd.map(lambda x: x[0]).distinct()\n",
    "subject_rdd.persist(StorageLevel.MEMORY_ONLY)\n",
    "\n",
    "object_rdd = pair_rdd.map(lambda x: x[1]).distinct()\n",
    "object_rdd.persist(StorageLevel.MEMORY_ONLY)\n",
    "\n",
    "roots = subject_rdd.subtract(object_rdd)\n",
    "print(roots.collect())\n"
   ]
  },
  {
   "cell_type": "markdown",
   "metadata": {
    "application/vnd.databricks.v1+cell": {
     "cellMetadata": {},
     "inputWidgets": {},
     "nuid": "999aa0c5-5ea0-438c-bec5-937e1b8d0b72",
     "showTitle": false,
     "title": ""
    }
   },
   "source": [
    "De manière analogue, calculer et afficher les feuilles, noeuds qui ne sont origines (sujets) d'aucun arc."
   ]
  },
  {
   "cell_type": "code",
   "execution_count": 0,
   "metadata": {
    "application/vnd.databricks.v1+cell": {
     "cellMetadata": {
      "byteLimit": 2048000,
      "rowLimit": 10000
     },
     "inputWidgets": {},
     "nuid": "8f0ec07f-aff6-4fe5-8b56-deb0c954ccd8",
     "showTitle": false,
     "title": ""
    }
   },
   "outputs": [
    {
     "output_type": "stream",
     "name": "stdout",
     "output_type": "stream",
     "text": [
      "[16, 10, 11, 12]\n"
     ]
    }
   ],
   "source": [
    "leaves = object_rdd.subtract(subject_rdd)\n",
    "print(leaves.collect())"
   ]
  },
  {
   "cell_type": "markdown",
   "metadata": {
    "application/vnd.databricks.v1+cell": {
     "cellMetadata": {},
     "inputWidgets": {},
     "nuid": "5500aab4-f741-44f2-b690-966b842e1210",
     "showTitle": false,
     "title": ""
    }
   },
   "source": [
    "Question optionnelle, plus difficile :\n",
    "Créer un nouveau RDD qui contient la \"fermeture transitive\" du graphe, correspondant à l'ensemble des paires (origine, destination) où la destination est accessible à partir de l'origine à partir d'un chemin composé d'un ou plusieurs arc.\n",
    "Par exemple, si le graphe était {(1, 2), (2, 3)}, alors sa fermeture transitive serait {(1, 2), (2, 3), (1, 3)}, car 2 est accessible directement à partir de 1, 3 est accessible directement à partir de 2, et 3 est accessible indirectement à partir de 1, en deux étapes.\n"
   ]
  },
  {
   "cell_type": "code",
   "execution_count": 0,
   "metadata": {
    "application/vnd.databricks.v1+cell": {
     "cellMetadata": {
      "byteLimit": 2048000,
      "rowLimit": 10000
     },
     "inputWidgets": {},
     "nuid": "d5ecee69-150c-4bfd-802a-5fa08cbf5295",
     "showTitle": false,
     "title": ""
    }
   },
   "outputs": [],
   "source": [
    "def transitive_closure(pair_rdd):\n",
    "\n",
    "    def loop(old_pair_rdd, old_size):\n",
    "        new_pair_rdd = old_pair_rdd.union(\n",
    "            old_pair_rdd.map(\n",
    "                lambda x: (x[1], x[0])\n",
    "                ).join(\n",
    "                    old_pair_rdd\n",
    "                ).map(\n",
    "                    lambda x: x[1]\n",
    "                )\n",
    "        ).distinct()\n",
    "        new_size = new_pair_rdd.count()\n",
    "        if old_size != new_size:\n",
    "            return loop(new_pair_rdd, new_size)\n",
    "        return new_pair_rdd\n",
    "    \n",
    "    return loop(pair_rdd, pair_rdd.count())\n"
   ]
  },
  {
   "cell_type": "code",
   "execution_count": 0,
   "metadata": {
    "application/vnd.databricks.v1+cell": {
     "cellMetadata": {
      "byteLimit": 2048000,
      "rowLimit": 10000
     },
     "inputWidgets": {},
     "nuid": "5252ab93-b9aa-4d17-a0f3-065c9d613f1c",
     "showTitle": false,
     "title": ""
    }
   },
   "outputs": [],
   "source": [
    "transitive_closure_rdd = transitive_closure(pair_rdd)"
   ]
  },
  {
   "cell_type": "code",
   "execution_count": 0,
   "metadata": {
    "application/vnd.databricks.v1+cell": {
     "cellMetadata": {
      "byteLimit": 2048000,
      "rowLimit": 10000
     },
     "inputWidgets": {},
     "nuid": "2a73d77d-e1a1-4dfc-9514-89d4f2a5d275",
     "showTitle": false,
     "title": ""
    }
   },
   "outputs": [
    {
     "output_type": "display_data",
     "data": {
      "text/html": [
       "\n",
       "        <div>\n",
       "            <p><b>SparkContext</b></p>\n",
       "\n",
       "            <p><a href=\"/?o=8519688365559781#setting/sparkui/0703-125421-biz9ez6n/driver-2885361571306259114\">Spark UI</a></p>\n",
       "\n",
       "            <dl>\n",
       "              <dt>Version</dt>\n",
       "                <dd><code>v3.3.2</code></dd>\n",
       "              <dt>Master</dt>\n",
       "                <dd><code>local[8]</code></dd>\n",
       "              <dt>AppName</dt>\n",
       "                <dd><code>Databricks Shell</code></dd>\n",
       "            </dl>\n",
       "        </div>\n",
       "        "
      ]
     },
     "metadata": {
      "application/vnd.databricks.v1+output": {
       "addedWidgets": {},
       "arguments": {},
       "data": "\n        <div>\n            <p><b>SparkContext</b></p>\n\n            <p><a href=\"/?o=8519688365559781#setting/sparkui/0703-125421-biz9ez6n/driver-2885361571306259114\">Spark UI</a></p>\n\n            <dl>\n              <dt>Version</dt>\n                <dd><code>v3.3.2</code></dd>\n              <dt>Master</dt>\n                <dd><code>local[8]</code></dd>\n              <dt>AppName</dt>\n                <dd><code>Databricks Shell</code></dd>\n            </dl>\n        </div>\n        ",
       "datasetInfos": [],
       "metadata": {},
       "removedWidgets": [],
       "textData": null,
       "type": "htmlSandbox"
      }
     },
     "output_type": "display_data"
    }
   ],
   "source": [
    "sc"
   ]
  },
  {
   "cell_type": "markdown",
   "metadata": {
    "application/vnd.databricks.v1+cell": {
     "cellMetadata": {},
     "inputWidgets": {},
     "nuid": "ac14d9d4-8403-4b17-809a-e10d680ab3f1",
     "showTitle": false,
     "title": ""
    }
   },
   "source": [
    "Déterminer et afficher les paires (sujet, objet) qui ont été ajoutées dans la fermeture transitive, en les triant par ordre croissant de sujet puis objet."
   ]
  },
  {
   "cell_type": "code",
   "execution_count": 0,
   "metadata": {
    "application/vnd.databricks.v1+cell": {
     "cellMetadata": {
      "byteLimit": 2048000,
      "rowLimit": 10000
     },
     "inputWidgets": {},
     "nuid": "cf481ba0-4ddb-48b5-a070-434dbe3c1ef3",
     "showTitle": false,
     "title": ""
    }
   },
   "outputs": [],
   "source": [
    "added_pair_rdd = transitive_closure_rdd"
   ]
  },
  {
   "cell_type": "markdown",
   "metadata": {
    "application/vnd.databricks.v1+cell": {
     "cellMetadata": {},
     "inputWidgets": {},
     "nuid": "462299af-8b61-46cf-b753-89362957442c",
     "showTitle": false,
     "title": ""
    }
   },
   "source": [
    "Créer un RDD contenant l'ensemble des nœuds accessibles à partir d'une racine.\n",
    "Chaque élément de ce RDD contiendra un tuple avec la racine en première position et une liste triée de tous les nœuds accessibles en deuxième position."
   ]
  },
  {
   "cell_type": "code",
   "execution_count": 0,
   "metadata": {
    "application/vnd.databricks.v1+cell": {
     "cellMetadata": {
      "byteLimit": 2048000,
      "rowLimit": 10000
     },
     "inputWidgets": {},
     "nuid": "44b0025b-e2db-4fe3-a0ac-593110c541e7",
     "showTitle": false,
     "title": ""
    }
   },
   "outputs": [
    {
     "output_type": "stream",
     "name": "stdout",
     "output_type": "stream",
     "text": [
      "Out[56]: [(2, [6, 9, 11, 12]),\n (3, [6, 9, 11, 12]),\n (4, [7, 9, 10, 11, 12]),\n (14, [15, 16])]"
     ]
    }
   ],
   "source": [
    "roots.map(lambda x: (x, x)).join(transitive_closure_rdd.groupByKey()).map(lambda x: (x[0], sorted(x[1][1]))).collect()"
   ]
  },
  {
   "cell_type": "code",
   "execution_count": 0,
   "metadata": {
    "application/vnd.databricks.v1+cell": {
     "cellMetadata": {},
     "inputWidgets": {},
     "nuid": "e8cbfc91-91e3-4606-8e10-412c822894c4",
     "showTitle": false,
     "title": ""
    }
   },
   "outputs": [],
   "source": []
  }
 ],
 "metadata": {
  "application/vnd.databricks.v1+notebook": {
   "dashboards": [],
   "environmentMetadata": null,
   "language": "python",
   "notebookMetadata": {
    "mostRecentlyExecutedCommandWithImplicitDF": {
     "commandId": 1083222694583845,
     "dataframes": [
      "_sqldf"
     ]
    },
    "pythonIndentUnit": 4
   },
   "notebookName": "QNC_live-coding_2_rdd",
   "widgets": {}
  },
  "language_info": {
   "name": "python"
  }
 },
 "nbformat": 4,
 "nbformat_minor": 0
}
